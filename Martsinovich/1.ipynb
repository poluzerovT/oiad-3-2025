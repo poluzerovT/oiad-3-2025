{
 "cells": [
  {
   "cell_type": "markdown",
   "id": "200143ee",
   "metadata": {},
   "source": [
    "# ОИАД. Лабораторная работа №1\n",
    "\n",
    "Используйте набор данных 'datasets/teen_phone_addiction_dataset.csv'. \n",
    "\n",
    "Возьмите столбец $N \\% 7 $, где $N$ - номер в списке группы (см. ниже).\n",
    "\n",
    "## I. \n",
    "Рассчитайте характеристики:\n",
    "1. Среднее\n",
    "2. Дисперсия\n",
    "3. Мода\n",
    "4. Медиана\n",
    "5. Квантили уровня 0.25, 0.5, 0.75\n",
    "6. Эксцесс\n",
    "7. Ассиметрия\n",
    "8. Интерквартильный размах\n",
    "\n",
    "Построить графики:\n",
    "1. Гистограмма\n",
    "2. Эмпирическая функция распределения\n",
    "\n",
    "## II. \n",
    "Проверить данные на нормальность, используя критерии:\n",
    "1. Хи-квадрат (Реализовать самому, не используя библиотечные варианты!!)\n",
    "2. Ассиметрии и эксцесса\n",
    "\n",
    "Построить Q-Q plot\n",
    "\n",
    "## III. \n",
    "Используя техники обработки данных, постарайтесь привести данные к нормальному распределению.  Например, с помощью:\n",
    "1. Удаление, усечение выбросов\n",
    "2. Стандартизация, нормировка\n",
    "3. Логарифмирование и т.п.\n",
    "\n",
    "Выполните пункты I и II для обработанных данных\n",
    "\n",
    "## IV.\n",
    "Сгруппируйте данные по столбцу 'School_Grade'. \n",
    "\n",
    "1. На одном графике постройте гистограммы для каждой группы.\n",
    "2. Рассчитайте среднее, дисперсию внутри каждой группы\n",
    "\n",
    "## V.\n",
    "После каждого пункта сделайте промежуточные выводы:\n",
    "1. Опишите полученные числовые характеристики и графики\n",
    "2. Являются ли данные нормальными\n",
    "3. Эффект от обработки данных (удалось ли привести данные к нормальному виду)\n",
    "4. Различия распределений внутри разных групп 'School_Grade'\n",
    "\n",
    "\n"
   ]
  },
  {
   "cell_type": "code",
   "execution_count": 78,
   "id": "fba77674",
   "metadata": {},
   "outputs": [],
   "source": [
    "N = 14\n",
    "cols = ['Daily_Usage_Hours', 'Sleep_Hours', 'Exercise_Hours', 'Screen_Time_Before_Bed', 'Time_on_Social_Media', 'Time_on_Gaming', 'Time_on_Education']\n",
    "col=cols[N % 7]"
   ]
  },
  {
   "cell_type": "code",
   "execution_count": 79,
   "id": "bcfa1ec9",
   "metadata": {},
   "outputs": [],
   "source": [
    "import numpy as np\n",
    "import pandas as pd\n",
    "from scipy import stats\n",
    "import matplotlib.pyplot as plt\n",
    "import math"
   ]
  },
  {
   "cell_type": "code",
   "execution_count": 80,
   "id": "37023561",
   "metadata": {},
   "outputs": [
    {
     "data": {
      "text/plain": [
       "0       4.0\n",
       "1       5.5\n",
       "2       5.8\n",
       "3       3.1\n",
       "4       2.5\n",
       "       ... \n",
       "2995    3.9\n",
       "2996    3.6\n",
       "2997    3.2\n",
       "2998    6.7\n",
       "2999    3.5\n",
       "Name: Daily_Usage_Hours, Length: 3000, dtype: float64"
      ]
     },
     "execution_count": 80,
     "metadata": {},
     "output_type": "execute_result"
    }
   ],
   "source": [
    "dataset=pd.read_csv('../datasets/teen_phone_addiction_dataset.csv')\n",
    "data=dataset[col]\n",
    "data"
   ]
  },
  {
   "cell_type": "code",
   "execution_count": 81,
   "id": "784b4831",
   "metadata": {},
   "outputs": [
    {
     "data": {
      "text/plain": [
       "5.020666666666667"
      ]
     },
     "execution_count": 81,
     "metadata": {},
     "output_type": "execute_result"
    }
   ],
   "source": [
    "np.mean(data)"
   ]
  },
  {
   "cell_type": "code",
   "execution_count": 82,
   "id": "c3048350",
   "metadata": {},
   "outputs": [
    {
     "data": {
      "text/plain": [
       "3.827895520729132"
      ]
     },
     "execution_count": 82,
     "metadata": {},
     "output_type": "execute_result"
    }
   ],
   "source": [
    "np.var(data,ddof=1)"
   ]
  },
  {
   "cell_type": "code",
   "execution_count": 83,
   "id": "30121a1c",
   "metadata": {},
   "outputs": [
    {
     "data": {
      "text/plain": [
       "ModeResult(mode=4.4, count=74)"
      ]
     },
     "execution_count": 83,
     "metadata": {},
     "output_type": "execute_result"
    }
   ],
   "source": [
    "stats.mode(data)"
   ]
  },
  {
   "cell_type": "code",
   "execution_count": 84,
   "id": "cf76e9d1",
   "metadata": {},
   "outputs": [
    {
     "data": {
      "text/plain": [
       "5.0"
      ]
     },
     "execution_count": 84,
     "metadata": {},
     "output_type": "execute_result"
    }
   ],
   "source": [
    "np.median(data)"
   ]
  },
  {
   "cell_type": "code",
   "execution_count": 85,
   "id": "c9ea89f4",
   "metadata": {},
   "outputs": [
    {
     "name": "stdout",
     "output_type": "stream",
     "text": [
      "3.7\n",
      "5.0\n",
      "6.4\n"
     ]
    }
   ],
   "source": [
    "print(np.quantile(data,0.25))\n",
    "print(np.quantile(data,0.5))\n",
    "print(np.quantile(data,0.75))"
   ]
  },
  {
   "cell_type": "code",
   "execution_count": 86,
   "id": "a6c4d265",
   "metadata": {},
   "outputs": [
    {
     "data": {
      "text/plain": [
       "-0.1226141759584718"
      ]
     },
     "execution_count": 86,
     "metadata": {},
     "output_type": "execute_result"
    }
   ],
   "source": [
    "stats.kurtosis(data) #эксцесс, приближенно к нормальному"
   ]
  },
  {
   "cell_type": "code",
   "execution_count": 87,
   "id": "5b00b934",
   "metadata": {},
   "outputs": [
    {
     "data": {
      "text/plain": [
       "0.016197292999157842"
      ]
     },
     "execution_count": 87,
     "metadata": {},
     "output_type": "execute_result"
    }
   ],
   "source": [
    "stats.skew(data) # малая правая асимметрия "
   ]
  },
  {
   "cell_type": "code",
   "execution_count": 88,
   "id": "c6693791",
   "metadata": {},
   "outputs": [
    {
     "data": {
      "text/plain": [
       "2.7"
      ]
     },
     "execution_count": 88,
     "metadata": {},
     "output_type": "execute_result"
    }
   ],
   "source": [
    "stats.iqr(data) #75 квантиль - 25 квантиль"
   ]
  },
  {
   "cell_type": "code",
   "execution_count": 89,
   "id": "00a2a6ad",
   "metadata": {},
   "outputs": [
    {
     "data": {
      "image/png": "[encoded data removed]",
      "text/plain": [
       "<Figure size 640x480 with 1 Axes>"
      ]
     },
     "metadata": {},
     "output_type": "display_data"
    }
   ],
   "source": [
    "plt.hist(data,bins=1+int(math.log(data.shape[0],2)),color=\"aqua\") #формула Стерджесса\n",
    "plt.show()"
   ]
  },
  {
   "cell_type": "code",
   "execution_count": 90,
   "id": "0fa47bd5",
   "metadata": {},
   "outputs": [
    {
     "data": {
      "image/png": "[encoded data removed]",
      "text/plain": [
       "<Figure size 640x480 with 1 Axes>"
      ]
     },
     "metadata": {},
     "output_type": "display_data"
    }
   ],
   "source": [
    "def func_distribution(data):\n",
    "    values,counts=np.unique(data,return_counts=True)\n",
    "    graphic_counts=np.zeros(counts.shape[0]*3)\n",
    "    graphic_values=np.zeros(values.shape[0]*3)\n",
    "    sum=0\n",
    "    point=0\n",
    "    for i in range(counts.shape[0]):\n",
    "        graphic_counts[i*3]=sum\n",
    "        graphic_counts[i*3+1]=sum\n",
    "        sum+=counts[i]\n",
    "        graphic_counts[i*3+2]=sum\n",
    "        graphic_values[i*3]=point\n",
    "        point=values[i]\n",
    "        graphic_values[i*3+1]=point\n",
    "        graphic_values[i*3+2]=point\n",
    "    plt.plot(graphic_values,graphic_counts/data.shape[0])\n",
    "    plt.show()\n",
    "func_distribution(data)"
   ]
  },
  {
   "cell_type": "markdown",
   "id": "10f00cfd",
   "metadata": {},
   "source": [
    "Мы имеем распределение похожее на нормальное с незначительной правой асимметрией. "
   ]
  },
  {
   "cell_type": "code",
   "execution_count": 91,
   "id": "4c22bd7e",
   "metadata": {},
   "outputs": [
    {
     "data": {
      "text/plain": [
       "False"
      ]
     },
     "execution_count": 91,
     "metadata": {},
     "output_type": "execute_result"
    }
   ],
   "source": [
    "def chi2_test(data,alpha):\n",
    "    k=1+int(math.log(data.shape[0],2))\n",
    "    min_data=np.min(data)\n",
    "    max_data=np.max(data)\n",
    "    h=(max_data-min_data)/k\n",
    "    data_observe=(data-min_data)/h\n",
    "    average=np.mean(data)\n",
    "    std=math.sqrt(np.var(data,ddof=1))\n",
    "    _, count_observe=np.unique(data_observe.astype(np.int64),return_counts=True)\n",
    "    count_observe[-2]=count_observe[-2]+count_observe[-1]\n",
    "    count_observe=count_observe[:-1]\n",
    "    freq_observe=count_observe\n",
    "    freq_expect=np.array(list(map(lambda i:(stats.norm.cdf(min_data+h*(i+1),loc=average,scale=std)-stats.norm.cdf(min_data+h*(i),loc=average,scale=std))*data.shape[0],range(k))))\n",
    "    chi2_stat=0\n",
    "    chi2_stat=np.sum((freq_observe-freq_expect)**2/(freq_expect+1e-6))\n",
    "    df=k-1-2\n",
    "    crit_val=stats.chi2.ppf(1-alpha,df)\n",
    "    return chi2_stat<=crit_val\n",
    "chi2_test(data,0.05)"
   ]
  },
  {
   "cell_type": "code",
   "execution_count": 92,
   "id": "4d21cc1f",
   "metadata": {},
   "outputs": [
    {
     "data": {
      "image/png": "[encoded data removed]",
      "text/plain": [
       "<Figure size 640x480 with 1 Axes>"
      ]
     },
     "metadata": {},
     "output_type": "display_data"
    }
   ],
   "source": [
    "stats.probplot(data,dist=\"norm\",plot=plt)\n",
    "plt.show()"
   ]
  },
  {
   "cell_type": "markdown",
   "id": "36af9fc5",
   "metadata": {},
   "source": [
    "Хи-квадрат не выполняется, коэффициенты асимметрии и эксцесса не показывают значительного отклоненеия. Мы отвергаем теорию нормального распределение по хи-квадрат. Q-Q показывает что мы имеем тяжёлый левый хвост."
   ]
  },
  {
   "cell_type": "code",
   "execution_count": 93,
   "id": "b447f306",
   "metadata": {},
   "outputs": [
    {
     "data": {
      "text/plain": [
       "(array([ 0. ,  0.1,  0.2,  0.3,  0.4,  0.5,  0.6,  0.7,  0.8,  0.9,  1. ,\n",
       "         1.1,  1.2,  1.3,  1.4,  1.5,  1.6,  1.7,  1.8,  1.9,  2. ,  2.1,\n",
       "         2.2,  2.3,  2.4,  2.5,  2.6,  2.7,  2.8,  2.9,  3. ,  3.1,  3.2,\n",
       "         3.3,  3.4,  3.5,  3.6,  3.7,  3.8,  3.9,  4. ,  4.1,  4.2,  4.3,\n",
       "         4.4,  4.5,  4.6,  4.7,  4.8,  4.9,  5. ,  5.1,  5.2,  5.3,  5.4,\n",
       "         5.5,  5.6,  5.7,  5.8,  5.9,  6. ,  6.1,  6.2,  6.3,  6.4,  6.5,\n",
       "         6.6,  6.7,  6.8,  6.9,  7. ,  7.1,  7.2,  7.3,  7.4,  7.5,  7.6,\n",
       "         7.7,  7.8,  7.9,  8. ,  8.1,  8.2,  8.3,  8.4,  8.5,  8.6,  8.7,\n",
       "         8.8,  8.9,  9. ,  9.1,  9.2,  9.3,  9.4,  9.5,  9.7,  9.8, 10.1,\n",
       "        10.2, 10.3, 10.5, 10.6, 10.9, 11. , 11.2, 11.5]),\n",
       " array([25,  1,  3,  5,  4,  2,  4,  1,  7, 10,  4,  9, 11, 12, 11, 12, 13,\n",
       "        14, 10, 17, 18, 14, 28, 17, 25, 31, 32, 34, 20, 34, 42, 34, 41, 46,\n",
       "        36, 51, 41, 44, 53, 58, 42, 62, 54, 69, 74, 59, 55, 62, 57, 73, 64,\n",
       "        58, 62, 65, 63, 54, 44, 51, 54, 39, 49, 44, 62, 59, 46, 36, 47, 47,\n",
       "        40, 38, 43, 38, 26, 33, 26, 26, 25, 23, 23, 13, 25, 24, 19, 18, 13,\n",
       "        14,  8, 16, 12, 13,  9,  9,  2,  6,  6,  5,  2,  2,  1,  3,  4,  1,\n",
       "         4,  1,  2,  1,  1], dtype=int64))"
      ]
     },
     "execution_count": 93,
     "metadata": {},
     "output_type": "execute_result"
    }
   ],
   "source": [
    "np.unique(data,return_counts=True)"
   ]
  },
  {
   "cell_type": "markdown",
   "id": "1c8c82c9",
   "metadata": {},
   "source": [
    "Выброс в 0 присутствует"
   ]
  },
  {
   "cell_type": "code",
   "execution_count": 94,
   "id": "ac6f0fa7",
   "metadata": {},
   "outputs": [],
   "source": [
    "new_data,_=stats.yeojohnson(data)"
   ]
  },
  {
   "cell_type": "code",
   "execution_count": 95,
   "id": "ab57dcec",
   "metadata": {},
   "outputs": [
    {
     "name": "stdout",
     "output_type": "stream",
     "text": [
      "4.790973183747704\n",
      "3.3485906453571763\n",
      "ModeResult(mode=4.222820070295914, count=74)\n",
      "4.783876186138952\n",
      "3.5651818166002154\n",
      "4.783876186138952\n",
      "6.0849420818100475\n",
      "-0.10855272047269615\n",
      "-0.02338568873727437\n",
      "2.519760265209832\n",
      "False\n"
     ]
    }
   ],
   "source": [
    "\n",
    "print(np.mean(new_data))\n",
    "print(np.var(new_data,ddof=1))\n",
    "print(stats.mode(new_data))\n",
    "print(np.median(new_data))\n",
    "print(np.quantile(new_data,0.25))\n",
    "print(np.quantile(new_data,0.5))\n",
    "print(np.quantile(new_data,0.75))\n",
    "print(stats.kurtosis(new_data))\n",
    "print(stats.skew(new_data))\n",
    "print(stats.iqr(new_data))\n",
    "print(chi2_test(new_data,0.05))"
   ]
  },
  {
   "cell_type": "code",
   "execution_count": 96,
   "id": "85f0f8df",
   "metadata": {},
   "outputs": [
    {
     "data": {
      "image/png": "[encoded data removed]",
      "text/plain": [
       "<Figure size 640x480 with 1 Axes>"
      ]
     },
     "metadata": {},
     "output_type": "display_data"
    }
   ],
   "source": [
    "plt.hist(new_data,bins=1+int(math.log(new_data.shape[0],2)),color=\"aqua\") #формула Стерджесса\n",
    "plt.show()"
   ]
  },
  {
   "cell_type": "code",
   "execution_count": 97,
   "id": "43e34a1f",
   "metadata": {},
   "outputs": [
    {
     "data": {
      "image/png": "[encoded data removed]",
      "text/plain": [
       "<Figure size 640x480 with 1 Axes>"
      ]
     },
     "metadata": {},
     "output_type": "display_data"
    }
   ],
   "source": [
    "stats.probplot(new_data,dist=\"norm\",plot=plt)\n",
    "plt.show()"
   ]
  },
  {
   "cell_type": "markdown",
   "id": "7219da85",
   "metadata": {},
   "source": [
    "Мы не смогли привести данные к нормальным, однако получилось немного уменьшить левый хвост преобразованием Yeo-johnson"
   ]
  },
  {
   "cell_type": "code",
   "execution_count": 98,
   "id": "37f47d15",
   "metadata": {},
   "outputs": [
    {
     "data": {
      "image/png": "[encoded data removed]",
      "text/plain": [
       "<Figure size 640x480 with 1 Axes>"
      ]
     },
     "metadata": {},
     "output_type": "display_data"
    }
   ],
   "source": [
    "grades=np.unique(dataset['School_Grade'])\n",
    "for grade in grades:\n",
    "    grade_dataset=dataset[dataset['School_Grade']==grade]\n",
    "    grade_data=grade_dataset[col]\n",
    "    plt.hist(grade_data,bins=1+int(math.log(grade_data.shape[0],2)),label=grade,alpha=0.5)\n",
    "plt.legend()\n",
    "plt.show()"
   ]
  },
  {
   "cell_type": "code",
   "execution_count": 100,
   "id": "6ebb291f",
   "metadata": {},
   "outputs": [
    {
     "data": {
      "text/html": [
       "<div>\n",
       "<style scoped>\n",
       "    .dataframe tbody tr th:only-of-type {\n",
       "        vertical-align: middle;\n",
       "    }\n",
       "\n",
       "    .dataframe tbody tr th {\n",
       "        vertical-align: top;\n",
       "    }\n",
       "\n",
       "    .dataframe thead th {\n",
       "        text-align: right;\n",
       "    }\n",
       "</style>\n",
       "<table border=\"1\" class=\"dataframe\">\n",
       "  <thead>\n",
       "    <tr style=\"text-align: right;\">\n",
       "      <th></th>\n",
       "      <th>Grade</th>\n",
       "      <th>mean</th>\n",
       "      <th>variable</th>\n",
       "    </tr>\n",
       "  </thead>\n",
       "  <tbody>\n",
       "    <tr>\n",
       "      <th>0</th>\n",
       "      <td>All</td>\n",
       "      <td>5.020667</td>\n",
       "      <td>3.827896</td>\n",
       "    </tr>\n",
       "    <tr>\n",
       "      <th>1</th>\n",
       "      <td>10th</td>\n",
       "      <td>4.977618</td>\n",
       "      <td>3.812605</td>\n",
       "    </tr>\n",
       "    <tr>\n",
       "      <th>2</th>\n",
       "      <td>11th</td>\n",
       "      <td>5.061795</td>\n",
       "      <td>3.635211</td>\n",
       "    </tr>\n",
       "    <tr>\n",
       "      <th>3</th>\n",
       "      <td>12th</td>\n",
       "      <td>4.936862</td>\n",
       "      <td>3.735589</td>\n",
       "    </tr>\n",
       "    <tr>\n",
       "      <th>4</th>\n",
       "      <td>7th</td>\n",
       "      <td>5.077062</td>\n",
       "      <td>3.883344</td>\n",
       "    </tr>\n",
       "    <tr>\n",
       "      <th>5</th>\n",
       "      <td>8th</td>\n",
       "      <td>5.066390</td>\n",
       "      <td>4.009513</td>\n",
       "    </tr>\n",
       "    <tr>\n",
       "      <th>6</th>\n",
       "      <td>9th</td>\n",
       "      <td>5.012167</td>\n",
       "      <td>3.912652</td>\n",
       "    </tr>\n",
       "  </tbody>\n",
       "</table>\n",
       "</div>"
      ],
      "text/plain": [
       "  Grade      mean  variable\n",
       "0   All  5.020667  3.827896\n",
       "1  10th  4.977618  3.812605\n",
       "2  11th  5.061795  3.635211\n",
       "3  12th  4.936862  3.735589\n",
       "4   7th  5.077062  3.883344\n",
       "5   8th  5.066390  4.009513\n",
       "6   9th  5.012167  3.912652"
      ]
     },
     "execution_count": 100,
     "metadata": {},
     "output_type": "execute_result"
    }
   ],
   "source": [
    "frame=pd.DataFrame(columns=['Grade','mean','variable'])\n",
    "frame.loc[0]=[\"All\",np.mean(data),np.var(data,ddof=1)]\n",
    "for i in range(grades.shape[0]):\n",
    "    grade_dataset=dataset[dataset['School_Grade']==grades[i]]\n",
    "    grade_data=grade_dataset[col]\n",
    "    frame.loc[i+1]=[grades[i],np.mean(grade_data),np.var(grade_data,ddof=1)]\n",
    "frame\n"
   ]
  },
  {
   "cell_type": "markdown",
   "id": "1ae25135",
   "metadata": {},
   "source": [
    "Разброс средних и дисперсий невелик, однако по гистограммам заметно, что моды заметно различаются. Сложно сказать про принадлежность одному или разному распределению, однако все имеют тяжёлые левые хвосты."
   ]
  }
 ],
 "metadata": {
  "kernelspec": {
   "display_name": "Python 3",
   "language": "python",
   "name": "python3"
  },
  "language_info": {
   "codemirror_mode": {
    "name": "ipython",
    "version": 3
   },
   "file_extension": ".py",
   "mimetype": "text/x-python",
   "name": "python",
   "nbconvert_exporter": "python",
   "pygments_lexer": "ipython3",
   "version": "3.12.10"
  }
 },
 "nbformat": 4,
 "nbformat_minor": 5
}
