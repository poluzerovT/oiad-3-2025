{
 "cells": [
  {
   "cell_type": "code",
   "execution_count": 1,
   "id": "45168295",
   "metadata": {},
   "outputs": [],
   "source": [
    "import numpy as np\n",
    "import pandas as pd\n",
    "import matplotlib.pyplot as plt\n",
    "import seaborn as sns\n",
    "from sklearn.preprocessing import LabelEncoder, StandardScaler"
   ]
  },
  {
   "cell_type": "markdown",
   "id": "e18b9207",
   "metadata": {},
   "source": [
    "## 1. Подготовка данных"
   ]
  },
  {
   "cell_type": "markdown",
   "id": "9ef1c4ec",
   "metadata": {},
   "source": [
    "* проверить наличие пропусков и выбросов"
   ]
  },
  {
   "cell_type": "code",
   "execution_count": 2,
   "id": "27778bd0",
   "metadata": {},
   "outputs": [],
   "source": [
    "test = pd.read_csv('../datasets/insurance_train.csv')\n",
    "train = pd.read_csv('../datasets/insurance_test.csv')"
   ]
  },
  {
   "cell_type": "code",
   "execution_count": 3,
   "id": "05ecaac5",
   "metadata": {},
   "outputs": [
    {
     "name": "stdout",
     "output_type": "stream",
     "text": [
      "(1000, 7) (338, 7)\n"
     ]
    }
   ],
   "source": [
    "print(train.shape, test.shape)"
   ]
  },
  {
   "cell_type": "code",
   "execution_count": 4,
   "id": "433661bb",
   "metadata": {},
   "outputs": [
    {
     "data": {
      "text/html": [
       "<div>\n",
       "<style scoped>\n",
       "    .dataframe tbody tr th:only-of-type {\n",
       "        vertical-align: middle;\n",
       "    }\n",
       "\n",
       "    .dataframe tbody tr th {\n",
       "        vertical-align: top;\n",
       "    }\n",
       "\n",
       "    .dataframe thead th {\n",
       "        text-align: right;\n",
       "    }\n",
       "</style>\n",
       "<table border=\"1\" class=\"dataframe\">\n",
       "  <thead>\n",
       "    <tr style=\"text-align: right;\">\n",
       "      <th></th>\n",
       "      <th>age</th>\n",
       "      <th>sex</th>\n",
       "      <th>bmi</th>\n",
       "      <th>children</th>\n",
       "      <th>smoker</th>\n",
       "      <th>region</th>\n",
       "      <th>charges</th>\n",
       "    </tr>\n",
       "  </thead>\n",
       "  <tbody>\n",
       "    <tr>\n",
       "      <th>0</th>\n",
       "      <td>61</td>\n",
       "      <td>male</td>\n",
       "      <td>38.380</td>\n",
       "      <td>0</td>\n",
       "      <td>no</td>\n",
       "      <td>northwest</td>\n",
       "      <td>12950.07120</td>\n",
       "    </tr>\n",
       "    <tr>\n",
       "      <th>1</th>\n",
       "      <td>59</td>\n",
       "      <td>female</td>\n",
       "      <td>34.800</td>\n",
       "      <td>2</td>\n",
       "      <td>no</td>\n",
       "      <td>southwest</td>\n",
       "      <td>36910.60803</td>\n",
       "    </tr>\n",
       "    <tr>\n",
       "      <th>2</th>\n",
       "      <td>31</td>\n",
       "      <td>male</td>\n",
       "      <td>30.875</td>\n",
       "      <td>0</td>\n",
       "      <td>no</td>\n",
       "      <td>northeast</td>\n",
       "      <td>3857.75925</td>\n",
       "    </tr>\n",
       "    <tr>\n",
       "      <th>3</th>\n",
       "      <td>24</td>\n",
       "      <td>female</td>\n",
       "      <td>33.345</td>\n",
       "      <td>0</td>\n",
       "      <td>no</td>\n",
       "      <td>northwest</td>\n",
       "      <td>2855.43755</td>\n",
       "    </tr>\n",
       "    <tr>\n",
       "      <th>4</th>\n",
       "      <td>31</td>\n",
       "      <td>male</td>\n",
       "      <td>28.500</td>\n",
       "      <td>5</td>\n",
       "      <td>no</td>\n",
       "      <td>northeast</td>\n",
       "      <td>6799.45800</td>\n",
       "    </tr>\n",
       "  </tbody>\n",
       "</table>\n",
       "</div>"
      ],
      "text/plain": [
       "   age     sex     bmi  children smoker     region      charges\n",
       "0   61    male  38.380         0     no  northwest  12950.07120\n",
       "1   59  female  34.800         2     no  southwest  36910.60803\n",
       "2   31    male  30.875         0     no  northeast   3857.75925\n",
       "3   24  female  33.345         0     no  northwest   2855.43755\n",
       "4   31    male  28.500         5     no  northeast   6799.45800"
      ]
     },
     "execution_count": 4,
     "metadata": {},
     "output_type": "execute_result"
    }
   ],
   "source": [
    "train.head()"
   ]
  },
  {
   "cell_type": "code",
   "execution_count": 5,
   "id": "81a48672",
   "metadata": {},
   "outputs": [
    {
     "name": "stdout",
     "output_type": "stream",
     "text": [
      "<class 'pandas.core.frame.DataFrame'>\n",
      "RangeIndex: 1000 entries, 0 to 999\n",
      "Data columns (total 7 columns):\n",
      " #   Column    Non-Null Count  Dtype  \n",
      "---  ------    --------------  -----  \n",
      " 0   age       1000 non-null   int64  \n",
      " 1   sex       1000 non-null   object \n",
      " 2   bmi       1000 non-null   float64\n",
      " 3   children  1000 non-null   int64  \n",
      " 4   smoker    1000 non-null   object \n",
      " 5   region    1000 non-null   object \n",
      " 6   charges   1000 non-null   float64\n",
      "dtypes: float64(2), int64(2), object(3)\n",
      "memory usage: 54.8+ KB\n"
     ]
    }
   ],
   "source": [
    "train.info()"
   ]
  },
  {
   "cell_type": "code",
   "execution_count": 6,
   "id": "cd1a1093",
   "metadata": {},
   "outputs": [
    {
     "data": {
      "text/plain": [
       "age         0\n",
       "sex         0\n",
       "bmi         0\n",
       "children    0\n",
       "smoker      0\n",
       "region      0\n",
       "charges     0\n",
       "dtype: int64"
      ]
     },
     "execution_count": 6,
     "metadata": {},
     "output_type": "execute_result"
    }
   ],
   "source": [
    "train.isnull().sum()"
   ]
  },
  {
   "cell_type": "code",
   "execution_count": 7,
   "id": "51a7856a",
   "metadata": {},
   "outputs": [
    {
     "data": {
      "text/plain": [
       "age         0\n",
       "sex         0\n",
       "bmi         0\n",
       "children    0\n",
       "smoker      0\n",
       "region      0\n",
       "charges     0\n",
       "dtype: int64"
      ]
     },
     "execution_count": 7,
     "metadata": {},
     "output_type": "execute_result"
    }
   ],
   "source": [
    "test.isnull().sum()"
   ]
  },
  {
   "cell_type": "code",
   "execution_count": 8,
   "id": "facf1079",
   "metadata": {},
   "outputs": [],
   "source": [
    "numeric_features = ['age', 'bmi', 'children', 'charges']\n",
    "categorical_features = ['sex', 'smoker', 'region']"
   ]
  },
  {
   "cell_type": "code",
   "execution_count": 9,
   "id": "6d23038a",
   "metadata": {},
   "outputs": [
    {
     "name": "stdout",
     "output_type": "stream",
     "text": [
      "0\n"
     ]
    }
   ],
   "source": [
    "train_outliers = ((train[numeric_features] - train[numeric_features].mean()).abs() > 3 * train[numeric_features].std()).all(axis=1)\n",
    "print(train_outliers.sum())"
   ]
  },
  {
   "cell_type": "code",
   "execution_count": 10,
   "id": "c1685269",
   "metadata": {},
   "outputs": [
    {
     "name": "stdout",
     "output_type": "stream",
     "text": [
      "0\n"
     ]
    }
   ],
   "source": [
    "test_outliers = ((test[numeric_features] - test[numeric_features].mean()).abs() > 3 * test[numeric_features].std()).all(axis=1)\n",
    "print(test_outliers.sum())"
   ]
  },
  {
   "cell_type": "markdown",
   "id": "b370c2c4",
   "metadata": {},
   "source": [
    "* привести категориальные признаки к числовым"
   ]
  },
  {
   "cell_type": "code",
   "execution_count": 11,
   "id": "12e1d183",
   "metadata": {},
   "outputs": [],
   "source": [
    "le_sex = LabelEncoder()\n",
    "le_smoker = LabelEncoder()\n",
    "le_region = LabelEncoder()"
   ]
  },
  {
   "cell_type": "code",
   "execution_count": 12,
   "id": "767e4461",
   "metadata": {},
   "outputs": [],
   "source": [
    "train['sex'] = le_sex.fit_transform(train['sex'])\n",
    "train['smoker'] = le_smoker.fit_transform(train['smoker'])\n",
    "train['region'] = le_region.fit_transform(train['region'])\n",
    "\n",
    "test['sex'] = le_sex.transform(test['sex'])\n",
    "test['smoker'] = le_smoker.transform(test['smoker'])\n",
    "test['region'] = le_region.transform(test['region'])"
   ]
  },
  {
   "cell_type": "code",
   "execution_count": 13,
   "id": "d9ad2a9f",
   "metadata": {},
   "outputs": [
    {
     "data": {
      "text/html": [
       "<div>\n",
       "<style scoped>\n",
       "    .dataframe tbody tr th:only-of-type {\n",
       "        vertical-align: middle;\n",
       "    }\n",
       "\n",
       "    .dataframe tbody tr th {\n",
       "        vertical-align: top;\n",
       "    }\n",
       "\n",
       "    .dataframe thead th {\n",
       "        text-align: right;\n",
       "    }\n",
       "</style>\n",
       "<table border=\"1\" class=\"dataframe\">\n",
       "  <thead>\n",
       "    <tr style=\"text-align: right;\">\n",
       "      <th></th>\n",
       "      <th>age</th>\n",
       "      <th>sex</th>\n",
       "      <th>bmi</th>\n",
       "      <th>children</th>\n",
       "      <th>smoker</th>\n",
       "      <th>region</th>\n",
       "      <th>charges</th>\n",
       "    </tr>\n",
       "  </thead>\n",
       "  <tbody>\n",
       "    <tr>\n",
       "      <th>0</th>\n",
       "      <td>61</td>\n",
       "      <td>1</td>\n",
       "      <td>38.380</td>\n",
       "      <td>0</td>\n",
       "      <td>0</td>\n",
       "      <td>1</td>\n",
       "      <td>12950.07120</td>\n",
       "    </tr>\n",
       "    <tr>\n",
       "      <th>1</th>\n",
       "      <td>59</td>\n",
       "      <td>0</td>\n",
       "      <td>34.800</td>\n",
       "      <td>2</td>\n",
       "      <td>0</td>\n",
       "      <td>3</td>\n",
       "      <td>36910.60803</td>\n",
       "    </tr>\n",
       "    <tr>\n",
       "      <th>2</th>\n",
       "      <td>31</td>\n",
       "      <td>1</td>\n",
       "      <td>30.875</td>\n",
       "      <td>0</td>\n",
       "      <td>0</td>\n",
       "      <td>0</td>\n",
       "      <td>3857.75925</td>\n",
       "    </tr>\n",
       "    <tr>\n",
       "      <th>3</th>\n",
       "      <td>24</td>\n",
       "      <td>0</td>\n",
       "      <td>33.345</td>\n",
       "      <td>0</td>\n",
       "      <td>0</td>\n",
       "      <td>1</td>\n",
       "      <td>2855.43755</td>\n",
       "    </tr>\n",
       "    <tr>\n",
       "      <th>4</th>\n",
       "      <td>31</td>\n",
       "      <td>1</td>\n",
       "      <td>28.500</td>\n",
       "      <td>5</td>\n",
       "      <td>0</td>\n",
       "      <td>0</td>\n",
       "      <td>6799.45800</td>\n",
       "    </tr>\n",
       "  </tbody>\n",
       "</table>\n",
       "</div>"
      ],
      "text/plain": [
       "   age  sex     bmi  children  smoker  region      charges\n",
       "0   61    1  38.380         0       0       1  12950.07120\n",
       "1   59    0  34.800         2       0       3  36910.60803\n",
       "2   31    1  30.875         0       0       0   3857.75925\n",
       "3   24    0  33.345         0       0       1   2855.43755\n",
       "4   31    1  28.500         5       0       0   6799.45800"
      ]
     },
     "execution_count": 13,
     "metadata": {},
     "output_type": "execute_result"
    }
   ],
   "source": [
    "train.head()"
   ]
  },
  {
   "cell_type": "code",
   "execution_count": 14,
   "id": "0fae4c86",
   "metadata": {},
   "outputs": [
    {
     "data": {
      "text/html": [
       "<div>\n",
       "<style scoped>\n",
       "    .dataframe tbody tr th:only-of-type {\n",
       "        vertical-align: middle;\n",
       "    }\n",
       "\n",
       "    .dataframe tbody tr th {\n",
       "        vertical-align: top;\n",
       "    }\n",
       "\n",
       "    .dataframe thead th {\n",
       "        text-align: right;\n",
       "    }\n",
       "</style>\n",
       "<table border=\"1\" class=\"dataframe\">\n",
       "  <thead>\n",
       "    <tr style=\"text-align: right;\">\n",
       "      <th></th>\n",
       "      <th>age</th>\n",
       "      <th>sex</th>\n",
       "      <th>bmi</th>\n",
       "      <th>children</th>\n",
       "      <th>smoker</th>\n",
       "      <th>region</th>\n",
       "      <th>charges</th>\n",
       "    </tr>\n",
       "  </thead>\n",
       "  <tbody>\n",
       "    <tr>\n",
       "      <th>0</th>\n",
       "      <td>26</td>\n",
       "      <td>1</td>\n",
       "      <td>27.060</td>\n",
       "      <td>0</td>\n",
       "      <td>1</td>\n",
       "      <td>2</td>\n",
       "      <td>17043.34140</td>\n",
       "    </tr>\n",
       "    <tr>\n",
       "      <th>1</th>\n",
       "      <td>58</td>\n",
       "      <td>1</td>\n",
       "      <td>36.955</td>\n",
       "      <td>2</td>\n",
       "      <td>1</td>\n",
       "      <td>1</td>\n",
       "      <td>47496.49445</td>\n",
       "    </tr>\n",
       "    <tr>\n",
       "      <th>2</th>\n",
       "      <td>20</td>\n",
       "      <td>0</td>\n",
       "      <td>24.420</td>\n",
       "      <td>0</td>\n",
       "      <td>1</td>\n",
       "      <td>2</td>\n",
       "      <td>26125.67477</td>\n",
       "    </tr>\n",
       "    <tr>\n",
       "      <th>3</th>\n",
       "      <td>51</td>\n",
       "      <td>0</td>\n",
       "      <td>38.060</td>\n",
       "      <td>0</td>\n",
       "      <td>1</td>\n",
       "      <td>2</td>\n",
       "      <td>44400.40640</td>\n",
       "    </tr>\n",
       "    <tr>\n",
       "      <th>4</th>\n",
       "      <td>62</td>\n",
       "      <td>0</td>\n",
       "      <td>25.000</td>\n",
       "      <td>0</td>\n",
       "      <td>0</td>\n",
       "      <td>3</td>\n",
       "      <td>13451.12200</td>\n",
       "    </tr>\n",
       "  </tbody>\n",
       "</table>\n",
       "</div>"
      ],
      "text/plain": [
       "   age  sex     bmi  children  smoker  region      charges\n",
       "0   26    1  27.060         0       1       2  17043.34140\n",
       "1   58    1  36.955         2       1       1  47496.49445\n",
       "2   20    0  24.420         0       1       2  26125.67477\n",
       "3   51    0  38.060         0       1       2  44400.40640\n",
       "4   62    0  25.000         0       0       3  13451.12200"
      ]
     },
     "execution_count": 14,
     "metadata": {},
     "output_type": "execute_result"
    }
   ],
   "source": [
    "test.head()"
   ]
  },
  {
   "cell_type": "markdown",
   "id": "21bedef5",
   "metadata": {},
   "source": [
    "* вычислить парные корреляции признаков"
   ]
  },
  {
   "cell_type": "code",
   "execution_count": 15,
   "id": "2b50a558",
   "metadata": {},
   "outputs": [
    {
     "data": {
      "image/png": "[encoded data removed]",
      "text/plain": [
       "<Figure size 1200x800 with 2 Axes>"
      ]
     },
     "metadata": {},
     "output_type": "display_data"
    }
   ],
   "source": [
    "plt.figure(figsize=(12,8))\n",
    "sns.heatmap(train.corr(), annot=True, cmap='coolwarm', center=0, fmt='.2f')\n",
    "plt.title('Correlation heatmap')\n",
    "plt.tight_layout()\n",
    "plt.show()"
   ]
  },
  {
   "cell_type": "markdown",
   "id": "2e49b78e",
   "metadata": {},
   "source": [
    "## 2. Многомерная линейная регрессия\n",
    "Построить модель линейной регрессии и подобрать параметры:\n",
    "1. аналитически (реализовать самому)\n",
    "2. численно, с помощью методов градиентного спуска (реализовать самому)"
   ]
  },
  {
   "cell_type": "markdown",
   "id": "f5fc65e5",
   "metadata": {},
   "source": [
    "## 3. Добавление регуляризации\n",
    "Модифицировать линейную модель путем добавления регуляризационного слагаемого. Найти оптимальные веса:\n",
    "1. аналитически\n",
    "2. численно"
   ]
  },
  {
   "cell_type": "code",
   "execution_count": 16,
   "id": "2cea87c2",
   "metadata": {},
   "outputs": [],
   "source": [
    "X_train = train.drop('charges', axis=1).values\n",
    "y_train = train['charges'].values\n",
    "X_test = test.drop('charges', axis=1).values\n",
    "y_test = test['charges'].values"
   ]
  },
  {
   "cell_type": "code",
   "execution_count": 17,
   "id": "7f3201fe",
   "metadata": {},
   "outputs": [],
   "source": [
    "scaler = StandardScaler()\n",
    "X_train = scaler.fit_transform(X_train)\n",
    "X_test = scaler.transform(X_test)"
   ]
  },
  {
   "cell_type": "code",
   "execution_count": 18,
   "id": "4b4a0df0",
   "metadata": {},
   "outputs": [],
   "source": [
    "def analytical_solution(X, y, lambda_reg=0):\n",
    "    X_with_bias = np.c_[np.ones(X.shape[0]), X]\n",
    "    \n",
    "    if lambda_reg > 0:\n",
    "        reg = np.eye(X_with_bias.shape[1])\n",
    "        reg[0, 0] = 0\n",
    "        weights = np.linalg.inv(\n",
    "            X_with_bias.T @ X_with_bias + lambda_reg * reg\n",
    "        ) @ X_with_bias.T @ y\n",
    "    else:\n",
    "        weights = np.linalg.pinv(X_with_bias.T @ X_with_bias) @ X_with_bias.T @ y\n",
    "    return weights"
   ]
  },
  {
   "cell_type": "code",
   "execution_count": 19,
   "id": "11ab2937",
   "metadata": {},
   "outputs": [],
   "source": [
    "from numpy.linalg import norm\n",
    "\n",
    "class LinearRegression:\n",
    "    def __init__(self, learning_rate=0.01, n_iter=1000, lambda_reg=0, eps=1e-6):\n",
    "        self.learning_rate = learning_rate\n",
    "        self.n_iter = n_iter\n",
    "        self.lambda_reg = lambda_reg\n",
    "        self.weights = None\n",
    "        self.bias = None\n",
    "        self.loss_history = []\n",
    "        self.eps = eps\n",
    "    \n",
    "    def fit(self, X, y):\n",
    "        n_samples, n_features = X.shape\n",
    "        self.weights = np.random.rand(n_features)\n",
    "        self.bias = 0\n",
    "        \n",
    "        for i in range(self.n_iter):\n",
    "            y_pred = np.dot(X, self.weights) + self.bias\n",
    "\n",
    "            dw = (2/n_samples) * np.dot(X.T, (y_pred - y))\n",
    "            db = (2/n_samples) * np.sum(y_pred - y)\n",
    "            \n",
    "            if self.lambda_reg > 0:\n",
    "                dw += 2 * self.lambda_reg * self.weights\n",
    "            \n",
    "            old_weights = self.weights.copy()\n",
    "            self.weights -= self.learning_rate * dw\n",
    "            self.bias -= self.learning_rate * db\n",
    "\n",
    "            loss = np.mean((y_pred - y)**2)\n",
    "            if self.lambda_reg > 0:\n",
    "                loss += self.lambda_reg * np.sum(self.weights**2)\n",
    "            self.loss_history.append(loss)\n",
    "            \n",
    "            if i % 200 == 0:\n",
    "                print(f\"Iteration {i}, Loss: {loss:.4f}\")\n",
    "\n",
    "            if norm(old_weights - self.weights) < self.eps:\n",
    "                break\n",
    "        \n",
    "        return self.weights, self.bias\n",
    "    \n",
    "    def predict(self, X):\n",
    "        if self.weights is None:\n",
    "            raise ValueError(\"Модель не обучена\")\n",
    "        return np.dot(X, self.weights) + self.bias"
   ]
  },
  {
   "cell_type": "code",
   "execution_count": 20,
   "id": "ccfab877",
   "metadata": {},
   "outputs": [
    {
     "name": "stdout",
     "output_type": "stream",
     "text": [
      "Weights: [12992.43766038  3653.03318062    20.61021257  1999.53994069\n",
      "   567.77654219  9509.54221059  -337.1829492 ]\n"
     ]
    }
   ],
   "source": [
    "weights_analytical = analytical_solution(X_train, y_train)\n",
    "print(f\"Weights: {weights_analytical}\")"
   ]
  },
  {
   "cell_type": "code",
   "execution_count": 21,
   "id": "1a8e2d0c",
   "metadata": {},
   "outputs": [
    {
     "name": "stdout",
     "output_type": "stream",
     "text": [
      "Iteration 0, Loss: 309394352.8556\n",
      "Weights: [3653.03318193   20.61021421 1999.53993759  567.77654176 9509.54220897\n",
      " -337.18294673]\n",
      "Bias: 12992.437659934974\n"
     ]
    }
   ],
   "source": [
    "lr_gradient = LinearRegression(learning_rate=0.1, n_iter=1000)\n",
    "weights_gd, bias_gd = lr_gradient.fit(X_train, y_train)\n",
    "print(f\"Weights: {weights_gd}\")\n",
    "print(f\"Bias: {bias_gd}\")"
   ]
  },
  {
   "cell_type": "code",
   "execution_count": 22,
   "id": "40d6be8e",
   "metadata": {},
   "outputs": [
    {
     "data": {
      "image/png": "[encoded data removed]",
      "text/plain": [
       "<Figure size 1000x600 with 1 Axes>"
      ]
     },
     "metadata": {},
     "output_type": "display_data"
    }
   ],
   "source": [
    "plt.figure(figsize=(10, 6))\n",
    "plt.plot(lr_gradient.loss_history)\n",
    "plt.title('Gradient descent without regularization')\n",
    "plt.xlabel('Iterations')\n",
    "plt.ylabel('MSE')\n",
    "plt.grid(True)\n",
    "plt.show()"
   ]
  },
  {
   "cell_type": "code",
   "execution_count": 23,
   "id": "387e98dd",
   "metadata": {},
   "outputs": [
    {
     "name": "stdout",
     "output_type": "stream",
     "text": [
      "Weights with regularization: [12992.43766038  3649.27250327    21.21225448  1997.71274821\n",
      "   567.41163488  9499.82761553  -336.36386248]\n"
     ]
    }
   ],
   "source": [
    "weights_ridge_analytical = analytical_solution(X_train, y_train, lambda_reg=1.0)\n",
    "print(f\"Weights with regularization: {weights_ridge_analytical}\")\n"
   ]
  },
  {
   "cell_type": "code",
   "execution_count": 24,
   "id": "41133701",
   "metadata": {},
   "outputs": [
    {
     "name": "stdout",
     "output_type": "stream",
     "text": [
      "Iteration 0, Loss: 313661874.7786\n",
      "Weights with regularization: [1801.55159208  167.28548501 1053.0536354   336.13751572 4707.70469506\n",
      "  -44.27696271]\n",
      "Bias with regularization: 12991.87175990679\n"
     ]
    }
   ],
   "source": [
    "lr_ridge_gradient = LinearRegression(learning_rate=0.1, n_iter=1000, lambda_reg=1.0)\n",
    "weights_ridge_gd, bias_ridge_gd = lr_ridge_gradient.fit(X_train, y_train)\n",
    "print(f\"Weights with regularization: {weights_ridge_gd}\")\n",
    "print(f\"Bias with regularization: {bias_ridge_gd}\")"
   ]
  },
  {
   "cell_type": "code",
   "execution_count": 25,
   "id": "b0e81e8d",
   "metadata": {},
   "outputs": [
    {
     "data": {
      "image/png": "[encoded data removed]",
      "text/plain": [
       "<Figure size 1000x600 with 1 Axes>"
      ]
     },
     "metadata": {},
     "output_type": "display_data"
    }
   ],
   "source": [
    "plt.figure(figsize=(10, 6))\n",
    "plt.plot(lr_ridge_gradient.loss_history)\n",
    "plt.title('Gradient descent with regularization')\n",
    "plt.xlabel('Iterations')\n",
    "plt.ylabel('MSE')\n",
    "plt.grid(True)\n",
    "plt.show()"
   ]
  },
  {
   "cell_type": "code",
   "execution_count": 26,
   "id": "d3fceac8",
   "metadata": {},
   "outputs": [],
   "source": [
    "def calculate_mse(y_true, y_pred):\n",
    "    return np.mean((y_true - y_pred)**2)\n",
    "\n",
    "def calculate_rmse(y_true, y_pred):\n",
    "    return np.sqrt(calculate_mse(y_true, y_pred))"
   ]
  },
  {
   "cell_type": "code",
   "execution_count": 27,
   "id": "38ba666f",
   "metadata": {},
   "outputs": [
    {
     "name": "stdout",
     "output_type": "stream",
     "text": [
      "Constant MSE: 164374128.13344663\n",
      "Constant RMSE: 12820.847403094955\n"
     ]
    }
   ],
   "source": [
    "y_pred_constant = np.full_like(y_test, np.mean(y_train))\n",
    "print(f\"Constant MSE: {calculate_mse(y_test, y_pred_constant)}\\nConstant RMSE: {calculate_rmse(y_test, y_pred_constant)}\")"
   ]
  },
  {
   "cell_type": "code",
   "execution_count": 28,
   "id": "8d900b72",
   "metadata": {},
   "outputs": [
    {
     "name": "stdout",
     "output_type": "stream",
     "text": [
      "Analytical MSE: 44759607.299307466\n",
      "Analytical RMSE: 6690.26212485785\n"
     ]
    }
   ],
   "source": [
    "X_test_with_bias = np.c_[np.ones(X_test.shape[0]), X_test]\n",
    "y_pred_analytical = np.dot(X_test_with_bias, weights_analytical)\n",
    "print(f\"Analytical MSE: {calculate_mse(y_test, y_pred_analytical)}\\nAnalytical RMSE: {calculate_rmse(y_test, y_pred_analytical)}\")"
   ]
  },
  {
   "cell_type": "code",
   "execution_count": 29,
   "id": "26ef0ff6",
   "metadata": {},
   "outputs": [
    {
     "name": "stdout",
     "output_type": "stream",
     "text": [
      "Gradient descent MSE: 44759607.300904594\n",
      "Gradient descent RMSE: 6690.262124977212\n"
     ]
    }
   ],
   "source": [
    "y_pred_gradient = lr_gradient.predict(X_test)\n",
    "print(f\"Gradient descent MSE: {calculate_mse(y_test, y_pred_gradient)}\\nGradient descent RMSE: {calculate_rmse(y_test, y_pred_gradient)}\")"
   ]
  },
  {
   "cell_type": "code",
   "execution_count": 30,
   "id": "59bdb408",
   "metadata": {},
   "outputs": [
    {
     "name": "stdout",
     "output_type": "stream",
     "text": [
      "Analytical with ridge MSE: 44755797.36944074\n",
      "Analytical with ridge RMSE: 6689.977381833271\n"
     ]
    }
   ],
   "source": [
    "y_pred_ridge_analytical = np.dot(X_test_with_bias, weights_ridge_analytical)\n",
    "print(f\"Analytical with ridge MSE: {calculate_mse(y_test, y_pred_ridge_analytical)}\\nAnalytical with ridge RMSE: {calculate_rmse(y_test, y_pred_ridge_analytical)}\")"
   ]
  },
  {
   "cell_type": "code",
   "execution_count": 31,
   "id": "5e6a7837",
   "metadata": {},
   "outputs": [
    {
     "name": "stdout",
     "output_type": "stream",
     "text": [
      "Gradient descent with ridge MSE: 74026680.19065234\n",
      "Gradient descent with ridge RMSE: 8603.87588187163\n"
     ]
    }
   ],
   "source": [
    "y_pred_ridge_gradient = lr_ridge_gradient.predict(X_test)\n",
    "print(f\"Gradient descent with ridge MSE: {calculate_mse(y_test, y_pred_ridge_gradient)}\\nGradient descent with ridge RMSE: {calculate_rmse(y_test, y_pred_ridge_gradient)}\")"
   ]
  }
 ],
 "metadata": {
  "kernelspec": {
   "display_name": "venv",
   "language": "python",
   "name": "python3"
  },
  "language_info": {
   "codemirror_mode": {
    "name": "ipython",
    "version": 3
   },
   "file_extension": ".py",
   "mimetype": "text/x-python",
   "name": "python",
   "nbconvert_exporter": "python",
   "pygments_lexer": "ipython3",
   "version": "3.12.6"
  }
 },
 "nbformat": 4,
 "nbformat_minor": 5
}
