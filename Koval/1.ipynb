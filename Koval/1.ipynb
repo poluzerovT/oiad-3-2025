{
 "cells": [
  {
   "cell_type": "markdown",
   "id": "200143ee",
   "metadata": {},
   "source": [
    "# ОИАД. Лабораторная работа №1\n",
    "\n",
    "Используйте набор данных 'datasets/teen_phone_addiction_dataset.csv'. \n",
    "\n",
    "Возьмите столбец $N \\% 7 $, где $N$ - номер в списке группы (см. ниже).\n",
    "\n",
    "## I. \n",
    "Рассчитайте характеристики:\n",
    "1. Среднее\n",
    "2. Дисперсия\n",
    "3. Мода\n",
    "4. Медиана\n",
    "5. Квантили уровня 0.25, 0.5, 0.75\n",
    "6. Эксцесс\n",
    "7. Ассиметрия\n",
    "8. Интерквартильный размах\n",
    "\n",
    "Построить графики:\n",
    "1. Гистограмма\n",
    "2. Эмпирическая функция распределения\n",
    "\n",
    "## II. \n",
    "Проверить данные на нормальность, используя критерии:\n",
    "1. Хи-квадрат (Реализовать самому, не используя библиотечные варианты!!)\n",
    "2. Ассиметрии и эксцесса\n",
    "\n",
    "Построить Q-Q plot\n",
    "\n",
    "## III. \n",
    "Используя техники обработки данных, постарайтесь привести данные к нормальному распределению.  Например, с помощью:\n",
    "1. Удаление, усечение выбросов\n",
    "2. Стандартизация, нормировка\n",
    "3. Логарифмирование и т.п.\n",
    "\n",
    "Выполните пункты I и II для обработанных данных\n",
    "\n",
    "## IV.\n",
    "Сгруппируйте данные по столбцу 'School_Grade'. \n",
    "\n",
    "1. На одном графике постройте гистограммы для каждой группы.\n",
    "2. Рассчитайте среднее, дисперсию внутри каждой группы\n",
    "\n",
    "## V.\n",
    "После каждого пункта сделайте промежуточные выводы:\n",
    "1. Опишите полученные числовые характеристики и графики\n",
    "2. Являются ли данные нормальными\n",
    "3. Эффект от обработки данных (удалось ли привести данные к нормальному виду)\n",
    "4. Различия распределений внутри разных групп 'School_Grade'\n",
    "\n",
    "\n"
   ]
  },
  {
   "cell_type": "code",
   "execution_count": 1,
   "id": "fba77674",
   "metadata": {},
   "outputs": [
    {
     "data": {
      "text/plain": [
       "'Time_on_Social_Media'"
      ]
     },
     "execution_count": 1,
     "metadata": {},
     "output_type": "execute_result"
    }
   ],
   "source": [
    "N = 18\n",
    "cols = ['Daily_Usage_Hours', 'Sleep_Hours', 'Exercise_Hours', 'Screen_Time_Before_Bed', 'Time_on_Social_Media', 'Time_on_Gaming', 'Time_on_Education']\n",
    "col = cols[N % 7]\n",
    "col"
   ]
  },
  {
   "cell_type": "code",
   "execution_count": 2,
   "id": "0861b10c",
   "metadata": {},
   "outputs": [],
   "source": [
    "import numpy as np\n",
    "import pandas as pd\n",
    "import matplotlib.pyplot as plt\n",
    "from scipy import stats\n",
    "from scipy.stats import norm, chi2\n",
    "\n",
    "plt.rcParams['figure.figsize'] = (8, 4)"
   ]
  },
  {
   "cell_type": "code",
   "execution_count": 3,
   "id": "94c03f34",
   "metadata": {},
   "outputs": [],
   "source": [
    "fn = '../datasets/teen_phone_addiction_dataset.csv'\n",
    "df = pd.read_csv(fn)\n",
    "\n",
    "data = df[col]"
   ]
  },
  {
   "cell_type": "markdown",
   "id": "f82b0c0d",
   "metadata": {},
   "source": [
    "### Часть I"
   ]
  },
  {
   "cell_type": "code",
   "execution_count": 4,
   "id": "9ab141b0",
   "metadata": {},
   "outputs": [],
   "source": [
    "def compute_stats(x):\n",
    "    x = np.asarray(x)\n",
    "    mean = np.mean(x)\n",
    "    var = np.var(x, ddof=1)\n",
    "    median = np.median(x)\n",
    "    q25, q50, q75 = np.quantile(x, [0.25, 0.5, 0.75])\n",
    "    mode = stats.mode(x)\n",
    "    iqr = q75 - q25\n",
    "    skew = stats.skew(x, bias=False)\n",
    "    kurt_excess = stats.kurtosis(x, fisher=True, bias=False)\n",
    "    return {\n",
    "        'mean': mean,\n",
    "        'var': var,\n",
    "        'mode': mode,\n",
    "        'median': median,\n",
    "        'q25': q25,\n",
    "        'q50': q50,\n",
    "        'q75': q75,\n",
    "        'skew': skew,\n",
    "        'kurt_excess': kurt_excess,\n",
    "        'iqr': iqr\n",
    "    }"
   ]
  },
  {
   "cell_type": "code",
   "execution_count": 5,
   "id": "89c818ab",
   "metadata": {},
   "outputs": [
    {
     "name": "stdout",
     "output_type": "stream",
     "text": [
      "mean: 2.4992333333333336\n",
      "var: 0.9765415927531399\n",
      "mode: ModeResult(mode=np.float64(2.7), count=np.int64(127))\n",
      "median: 2.5\n",
      "q25: 1.8\n",
      "q50: 2.5\n",
      "q75: 3.2\n",
      "skew: 0.06697299104625637\n",
      "kurt_excess: -0.21322979611749737\n",
      "iqr: 1.4000000000000001\n"
     ]
    },
    {
     "data": {
      "image/png": "[encoded data removed]",
      "text/plain": [
       "<Figure size 800x400 with 1 Axes>"
      ]
     },
     "metadata": {},
     "output_type": "display_data"
    },
    {
     "data": {
      "image/png": "[encoded data removed]",
      "text/plain": [
       "<Figure size 800x400 with 1 Axes>"
      ]
     },
     "metadata": {},
     "output_type": "display_data"
    }
   ],
   "source": [
    "stats_orig = compute_stats(data)\n",
    "\n",
    "for k,v in stats_orig.items():\n",
    "    print(f'{k}: {v}')\n",
    "\n",
    "def plot_hist(x):\n",
    "    plt.figure()\n",
    "    plt.hist(x, bins=20)\n",
    "    plt.xlabel(col)\n",
    "    plt.ylabel('Частота')\n",
    "    plt.grid(axis='y')\n",
    "    plt.show()\n",
    "\n",
    "plot_hist(data)\n",
    "\n",
    "def plot_ecdf(x):\n",
    "    plt.figure()\n",
    "    x_sorted = np.sort(x)\n",
    "    y = np.arange(1, len(x_sorted)+1) / len(x_sorted)\n",
    "    plt.step(x_sorted, y)\n",
    "    plt.ylim(0,1)\n",
    "    plt.xlabel('Значение')\n",
    "    plt.ylabel('ECDF')\n",
    "    plt.grid()\n",
    "    plt.show()\n",
    "\n",
    "plot_ecdf(data)"
   ]
  },
  {
   "cell_type": "markdown",
   "id": "9987840e",
   "metadata": {},
   "source": [
    "Довольно симметричное распределение, но заметно отличается от нормального."
   ]
  },
  {
   "cell_type": "markdown",
   "id": "20171345",
   "metadata": {},
   "source": [
    "### Часть II"
   ]
  },
  {
   "cell_type": "code",
   "execution_count": 6,
   "id": "50f21625",
   "metadata": {},
   "outputs": [
    {
     "name": "stdout",
     "output_type": "stream",
     "text": [
      "False\n",
      "9.204295203153414 0.010030271570255227\n"
     ]
    },
    {
     "data": {
      "image/png": "[encoded data removed]",
      "text/plain": [
       "<Figure size 800x400 with 1 Axes>"
      ]
     },
     "metadata": {},
     "output_type": "display_data"
    }
   ],
   "source": [
    "def chi2_test_normal(data, alpha=0.05):\n",
    "    x = np.asarray(data)\n",
    "    n = x.size\n",
    "    m = int(np.log2(n)) + 1\n",
    "    edges = np.linspace(x.min(), x.max(), m+1)\n",
    "    obs, _ = np.histogram(x, bins=edges)\n",
    "    mu = x.mean()\n",
    "    sigma = x.std(ddof=1)\n",
    "    cdf_vals = norm.cdf(edges, loc=mu, scale=sigma)\n",
    "    exp_probs = cdf_vals[1:] - cdf_vals[:-1]\n",
    "    exp = exp_probs * n\n",
    "    chi2_stat = np.sum((obs - exp)**2 / exp)\n",
    "    m_eff = exp.size\n",
    "    deg = m_eff - 1 - 2\n",
    "    crit_val = chi2.ppf(1 - alpha, deg)\n",
    "    return chi2_stat < crit_val\n",
    "\n",
    "chi2_res = chi2_test_normal(data)\n",
    "print(chi2_res)\n",
    "\n",
    "k2, p_normal = stats.normaltest(data)\n",
    "print(k2, p_normal)\n",
    "\n",
    "plt.figure()\n",
    "sorted_x = np.sort(data)\n",
    "probs = (np.arange(1, len(sorted_x)+1) - 0.5) / len(sorted_x)\n",
    "theor_q = norm.ppf(probs, loc=data.mean(), scale=data.std(ddof=1))\n",
    "plt.scatter(theor_q, sorted_x)\n",
    "plt.plot([theor_q.min(), theor_q.max()], [theor_q.min(), theor_q.max()], linestyle='--')\n",
    "plt.xlabel('Теоретические квантили')\n",
    "plt.ylabel(col)\n",
    "plt.title('Q-Q plot')\n",
    "plt.grid()\n",
    "plt.show()"
   ]
  },
  {
   "cell_type": "markdown",
   "id": "41375a53",
   "metadata": {},
   "source": [
    "Оба теста показали ложность гипотезы и нормальности данного распределения. На Q-Q графике заметно отличие от нормального."
   ]
  },
  {
   "cell_type": "markdown",
   "id": "c5ec7ce6",
   "metadata": {},
   "source": [
    "### Часть III"
   ]
  },
  {
   "cell_type": "code",
   "execution_count": 9,
   "id": "5c330c4c",
   "metadata": {},
   "outputs": [
    {
     "name": "stdout",
     "output_type": "stream",
     "text": [
      "\n",
      "== orig\n",
      "mean= 2.4992333333333336 var= 0.9765415927531399\n",
      "chi2 test:  False\n",
      "sk test: k2 = 9.204 | p_normal = 0.010\n",
      "\n",
      "== trimmed\n",
      "mean= 2.4992333333333336 var= 0.9765415927531399\n",
      "chi2 test:  False\n",
      "sk test: k2 = 9.204 | p_normal = 0.010\n",
      "\n",
      "== winsorized\n",
      "mean= 2.4995 var= 0.8309867455818608\n",
      "chi2 test:  False\n",
      "sk test: k2 = 274.585 | p_normal = 0.000\n",
      "\n",
      "== log\n",
      "mean= 1.2076411146566215 var= 0.09794814744485932\n",
      "chi2 test:  False\n",
      "sk test: k2 = 377.151 | p_normal = 0.000\n",
      "\n",
      "== standardized\n",
      "mean= -2.8658557008990707e-16 var= 1.000333444481494\n",
      "chi2 test:  False\n",
      "sk test: k2 = 9.204 | p_normal = 0.010\n"
     ]
    }
   ],
   "source": [
    "mask = np.abs((np.array(data) - np.mean(data)) / np.std(data)) < 3\n",
    "data_trimmed = data[mask]\n",
    "\n",
    "p_low, p_high = np.percentile(data, [5, 95])\n",
    "data_wins = np.clip(data, p_low, p_high)\n",
    "\n",
    "data_log = np.log(data + 1)\n",
    "\n",
    "data_stad = (np.array(data) - np.mean(data)) / np.std(data)\n",
    "\n",
    "variants = {\n",
    "    'orig': data,\n",
    "    'trimmed': data_trimmed,\n",
    "    'winsorized': data_wins,\n",
    "    'log': data_log,\n",
    "    'standardized': data_stad\n",
    "}\n",
    "\n",
    "results_variants = {}\n",
    "for name, arr in variants.items():\n",
    "    s = compute_stats(arr)\n",
    "    chi = chi2_test_normal(arr)\n",
    "    k2, p_normal = stats.normaltest(arr)\n",
    "    results_variants[name] = {'stats': s, 'chi2': chi, 'sk': (k2, p_normal)}\n",
    "\n",
    "for name, res in results_variants.items():\n",
    "    print('\\n==', name)\n",
    "    print('mean=', res['stats']['mean'], 'var=', res['stats']['var'])\n",
    "    print('chi2 test: ', res['chi2'])\n",
    "    print(f'sk test: k2 = {res['sk'][0]:.3f} | p_normal = {res['sk'][1]:.3f}')"
   ]
  },
  {
   "cell_type": "markdown",
   "id": "03a11807",
   "metadata": {},
   "source": [
    "Ни один из способов не сделал исходное распределение нормальным."
   ]
  },
  {
   "cell_type": "markdown",
   "id": "81bc9778",
   "metadata": {},
   "source": [
    "### Часть IV"
   ]
  },
  {
   "cell_type": "code",
   "execution_count": 8,
   "id": "2e0f9bc8",
   "metadata": {},
   "outputs": [
    {
     "data": {
      "image/png": "[encoded data removed]",
      "text/plain": [
       "<Figure size 800x400 with 1 Axes>"
      ]
     },
     "metadata": {},
     "output_type": "display_data"
    },
    {
     "data": {
      "text/html": [
       "<div>\n",
       "<style scoped>\n",
       "    .dataframe tbody tr th:only-of-type {\n",
       "        vertical-align: middle;\n",
       "    }\n",
       "\n",
       "    .dataframe tbody tr th {\n",
       "        vertical-align: top;\n",
       "    }\n",
       "\n",
       "    .dataframe thead th {\n",
       "        text-align: right;\n",
       "    }\n",
       "</style>\n",
       "<table border=\"1\" class=\"dataframe\">\n",
       "  <thead>\n",
       "    <tr style=\"text-align: right;\">\n",
       "      <th></th>\n",
       "      <th>mean</th>\n",
       "      <th>var</th>\n",
       "      <th>count</th>\n",
       "    </tr>\n",
       "    <tr>\n",
       "      <th>School_Grade</th>\n",
       "      <th></th>\n",
       "      <th></th>\n",
       "      <th></th>\n",
       "    </tr>\n",
       "  </thead>\n",
       "  <tbody>\n",
       "    <tr>\n",
       "      <th>10th</th>\n",
       "      <td>2.524025</td>\n",
       "      <td>0.922734</td>\n",
       "      <td>487</td>\n",
       "    </tr>\n",
       "    <tr>\n",
       "      <th>11th</th>\n",
       "      <td>2.487891</td>\n",
       "      <td>0.945878</td>\n",
       "      <td>479</td>\n",
       "    </tr>\n",
       "    <tr>\n",
       "      <th>12th</th>\n",
       "      <td>2.463894</td>\n",
       "      <td>1.013978</td>\n",
       "      <td>529</td>\n",
       "    </tr>\n",
       "    <tr>\n",
       "      <th>7th</th>\n",
       "      <td>2.540040</td>\n",
       "      <td>0.919583</td>\n",
       "      <td>497</td>\n",
       "    </tr>\n",
       "    <tr>\n",
       "      <th>8th</th>\n",
       "      <td>2.469917</td>\n",
       "      <td>1.030382</td>\n",
       "      <td>482</td>\n",
       "    </tr>\n",
       "    <tr>\n",
       "      <th>9th</th>\n",
       "      <td>2.510456</td>\n",
       "      <td>1.025967</td>\n",
       "      <td>526</td>\n",
       "    </tr>\n",
       "  </tbody>\n",
       "</table>\n",
       "</div>"
      ],
      "text/plain": [
       "                  mean       var  count\n",
       "School_Grade                           \n",
       "10th          2.524025  0.922734    487\n",
       "11th          2.487891  0.945878    479\n",
       "12th          2.463894  1.013978    529\n",
       "7th           2.540040  0.919583    497\n",
       "8th           2.469917  1.030382    482\n",
       "9th           2.510456  1.025967    526"
      ]
     },
     "execution_count": 8,
     "metadata": {},
     "output_type": "execute_result"
    }
   ],
   "source": [
    "groups = df.groupby('School_Grade')\n",
    "plt.figure()\n",
    "grades = []\n",
    "for name, g in groups:\n",
    "    arr = g[col].values\n",
    "    grades.append(name)\n",
    "    plt.hist(arr, alpha=0.3, label=str(name))\n",
    "plt.legend(title='School_Grade')\n",
    "plt.show()\n",
    "\n",
    "grp_stats = groups[col].agg(['mean', 'var', 'count'])\n",
    "grp_stats"
   ]
  },
  {
   "cell_type": "markdown",
   "id": "eb39561d",
   "metadata": {},
   "source": [
    "Сильных отличий нет, но в 10-ом, 11-ом и 7-ом классах дисперсия немного ниже."
   ]
  }
 ],
 "metadata": {
  "kernelspec": {
   "display_name": ".venv",
   "language": "python",
   "name": "python3"
  },
  "language_info": {
   "codemirror_mode": {
    "name": "ipython",
    "version": 3
   },
   "file_extension": ".py",
   "mimetype": "text/x-python",
   "name": "python",
   "nbconvert_exporter": "python",
   "pygments_lexer": "ipython3",
   "version": "3.12.10"
  }
 },
 "nbformat": 4,
 "nbformat_minor": 5
}
