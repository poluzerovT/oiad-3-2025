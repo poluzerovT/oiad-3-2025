{
 "cells": [
  {
   "cell_type": "markdown",
   "id": "c3e149ae",
   "metadata": {},
   "source": [
    "# ОИАД. Лабораторная работа №2\n",
    "\n",
    "## Входные данные\n",
    "Датасет: **datasets/students_simple.csv**\n",
    "Выбираются 2 слобкика данных по формулам:\n",
    "1) $N \\% 5$\n",
    "2) $N^2 \\% 5 + 5$\n",
    "где $N$ - номер в списке\n",
    "\n",
    "## 1. Расчет корреляций\n",
    "1. Фехнера\n",
    "2. Пирсона + доверительный интервал\n",
    "3. Спирмена\n",
    "4. Кенделла\n",
    "\n",
    "## 2. Визуализация\n",
    "1. Гистограммы\n",
    "2. График рассеяния (scatter plot)\n",
    "\n",
    "## 3. Уравнение регрессии\n",
    "Построить уравнение регрессии по видам:\n",
    "1. линейная, $y=w_1 x + w_0$\n",
    "2. квадратичная, $y = w_2 x^2 + w_1 x + w_0$\n",
    "3. гиперболическая, $y = \\frac{w_1}{x} + w_0$ \n",
    "4. показательная, $y = w_1^x \\cdot w_0$\n",
    "\n",
    "Показать результаты на графиках\n",
    "\n",
    "## 4. Проверка уравнения регрессии\n",
    "Для наилучшего и наихудшего уравнения регрессии проверить соотвествие моедли данным с помощью критерия Фишера\n",
    "\n",
    "## 5. Выводы\n",
    "Сделать вывод по каждому пункту\n"
   ]
  },
  {
   "cell_type": "code",
   "execution_count": 35,
   "id": "9946278a",
   "metadata": {},
   "outputs": [
    {
     "name": "stdout",
     "output_type": "stream",
     "text": [
      "    height  mass  income   iq  pages  age    bmi  work_exp  friends  test_time\n",
      "0      159    45     430   95     24   20  3.533        26        5        8.5\n",
      "1      160    61     640  115     32   25  2.623        63        7        6.2\n",
      "2      161    56     610  111     24   28  2.875        94       10        6.8\n",
      "3      162    48     330   97     24   19  3.375        16        4       12.0\n",
      "4      162    54     420  105     60   23  3.000        49        2        7.5\n",
      "5      164    58     290   98     16   20  2.828        14        6       10.0\n",
      "6      166    51     480  109     90   26  3.255        78        9        7.2\n",
      "7      169    62     610  120     24   19  2.726        10        5        4.2\n",
      "8      170    70     840  122     48   30  2.429       130       10        3.5\n",
      "9      170    72     330   92     24   20  2.361        20        3        9.5\n",
      "10     171    73     560  110     16   28  2.342        86        8        7.8\n",
      "11     171    64     450  102     48   21  2.672        29        4        8.0\n",
      "12     172    73     350  108     32   26  2.356        75        7        6.0\n",
      "13     174    68     310  100     48   21  2.559        22        4        4.8\n",
      "14     176    81     380  104     64   20  2.173        32        1        8.6\n",
      "15     176    84     340  104     48   19  2.095        21        5       10.0\n",
      "16     178    76     660  128     90   27  2.342        96        8        4.5\n",
      "17     181    90     450  106     48   26  2.011        70        9       12.5\n",
      "18     183    68     540  105     32   23  2.691        59        6       10.5\n",
      "19     192    95     750  117     60   27  2.021        98        4        6.5\n"
     ]
    }
   ],
   "source": [
    "import pandas as pd\n",
    "all_data = pd.read_csv('../datasets/students_simple.csv')\n",
    "cols = all_data.columns\n",
    "print(all_data)"
   ]
  },
  {
   "cell_type": "code",
   "execution_count": 36,
   "id": "2a54bef3",
   "metadata": {},
   "outputs": [
    {
     "name": "stdout",
     "output_type": "stream",
     "text": [
      "    mass    bmi\n",
      "0     45  3.533\n",
      "1     61  2.623\n",
      "2     56  2.875\n",
      "3     48  3.375\n",
      "4     54  3.000\n",
      "5     58  2.828\n",
      "6     51  3.255\n",
      "7     62  2.726\n",
      "8     70  2.429\n",
      "9     72  2.361\n",
      "10    73  2.342\n",
      "11    64  2.672\n",
      "12    73  2.356\n",
      "13    68  2.559\n",
      "14    81  2.173\n",
      "15    84  2.095\n",
      "16    76  2.342\n",
      "17    90  2.011\n",
      "18    68  2.691\n",
      "19    95  2.021\n"
     ]
    }
   ],
   "source": [
    "N = 26\n",
    "x_name = cols[N % 5]\n",
    "y_name = cols[(N * N) % 5 + 5]\n",
    "x = all_data[x_name]\n",
    "y = all_data[y_name]\n",
    "print(all_data[[x_name, y_name]])\n"
   ]
  },
  {
   "cell_type": "markdown",
   "id": "e94d3ba3",
   "metadata": {},
   "source": [
    "# 1. Расчет корреляций"
   ]
  },
  {
   "cell_type": "markdown",
   "id": "1f070f7e",
   "metadata": {},
   "source": [
    "### 1.1. Фехнера\n",
    "Для двух переменных X и Y:\n",
    "$$ 𝑟 = \\frac{𝑛_+ − 𝑛_−}{n} $$\n",
    "\n",
    "где: \n",
    "$n_+$ — количество наблюдений, где знаки отклонений $(x_𝑖−\\bar{x})$ и $(y_i\t​− \\bar{y})$ совпадают,\n",
    "\n",
    "$n_−$ — количество наблюдений, где они разные,\n",
    "\n",
    "n — общее число наблюдений."
   ]
  },
  {
   "cell_type": "code",
   "execution_count": 37,
   "id": "63c20eac",
   "metadata": {},
   "outputs": [
    {
     "name": "stdout",
     "output_type": "stream",
     "text": [
      "Коэффициент корреляции Фехнера: -0.900\n"
     ]
    }
   ],
   "source": [
    "import numpy as np \n",
    "\n",
    "x_mean = np.mean(x)\n",
    "y_mean = np.mean(y)\n",
    "\n",
    "x_dev = x - x_mean\n",
    "y_dev = y - y_mean\n",
    "same_sign = np.sign(x_dev) == np.sign(y_dev)\n",
    "\n",
    "n_plus = np.sum(same_sign)\n",
    "n_minus = len(x) - n_plus\n",
    "\n",
    "r_fechner = (n_plus - n_minus) / len(x)\n",
    "\n",
    "print(f\"Коэффициент корреляции Фехнера: {r_fechner:.3f}\")"
   ]
  },
  {
   "cell_type": "markdown",
   "id": "0849065d",
   "metadata": {},
   "source": [
    "Это значит, что величины меняются относительно своих средних очень несогласованно"
   ]
  },
  {
   "cell_type": "markdown",
   "id": "c194b956",
   "metadata": {},
   "source": [
    "### 1.2. Пирсона + доверительный интервал\n",
    "Формула корреляции Пирсона\n",
    "$$ r = \\frac{\\sum{(x_i−\\bar{x})(y_i−\\bar{y})}}{\\sum{(x_i−\\bar{x})}^2\\sum{(y_i−\\bar{y})^2}} $$\n",
    "\n",
    "Оценивает, насколько зависимость между величинами близка к линейной\n",
    "\n",
    "Принимает значения от -1 до 1\n",
    "\n",
    "- 1 - восходящая линейная зависимость\n",
    "- 0 - нет зависимости\n",
    "- -1 - нисходящая линейная зависимость"
   ]
  },
  {
   "cell_type": "code",
   "execution_count": 38,
   "id": "797071d8",
   "metadata": {},
   "outputs": [
    {
     "name": "stdout",
     "output_type": "stream",
     "text": [
      "Коэффициент корреляции Пирсона: -0.961\n",
      "95% доверительный интервал: [-0.985, -0.901]\n"
     ]
    }
   ],
   "source": [
    "import math\n",
    "from scipy.stats import norm\n",
    "\n",
    "num = np.sum(x_dev @ y_dev)\n",
    "den = np.sqrt((x_dev @ x_dev) * (y_dev @ y_dev))\n",
    "r_pirson = num / den\n",
    "\n",
    "print(f\"Коэффициент корреляции Пирсона: {r_pirson:.3f}\")\n",
    "\n",
    "# Доверительный интервал через преобразование Фишера\n",
    "z = 0.5 * math.log((1+r_pirson)/(1-r_pirson))\n",
    "se = 1 / math.sqrt(len(x) - 3)\n",
    "\n",
    "alpha = 0.05  # допустимая ошибка\n",
    "z_crit = norm.ppf(1 - alpha/2)\n",
    "\n",
    "z_lower = z - z_crit * se\n",
    "z_upper = z + z_crit * se\n",
    "\n",
    "r_lower = math.tanh(z_lower)\n",
    "r_upper = math.tanh(z_upper)\n",
    "\n",
    "print(f\"{(1-alpha) * 100:.0f}% доверительный интервал: [{r_lower:.3f}, {r_upper:.3f}]\")\n"
   ]
  },
  {
   "cell_type": "markdown",
   "id": "94e6c55b",
   "metadata": {},
   "source": [
    "Из значения корреляции Пирсона делаем вывод, что имеется сильная отрицательная связь, зависимость между величинами близка к линейной\n",
    "\n",
    "Вероятность того, что искомое значение лежит в интервале [-0.985, -0.901] - 95%. Это говорит о том, что зависимость скорее отрицательная"
   ]
  },
  {
   "cell_type": "markdown",
   "id": "b54a1a29",
   "metadata": {},
   "source": [
    "### 1.3. Спирмена\n",
    "\n",
    "Вместо самих значений $x_i$ ,$y_i$, мы рассматриваем их ранги (порядковые номера).\n",
    "$$\\rho=1 - \\frac{6\\sum{d_i^2}}{n(n^2−1)} $$\n",
    "\n",
    "где:\n",
    "    \n",
    "$d_i=R(x_i)−R(y_i)$ — разница рангов для i-го наблюдения,\n",
    "\n",
    "$R(x_i)$, $R(y_i)$ — ранги элементов,   \n",
    "\n",
    "n — количество наблюдений."
   ]
  },
  {
   "cell_type": "code",
   "execution_count": 39,
   "id": "76e91ef1",
   "metadata": {},
   "outputs": [
    {
     "name": "stdout",
     "output_type": "stream",
     "text": [
      "Коэффициент корреляции Спирмена: -0.983\n"
     ]
    }
   ],
   "source": [
    "x_rank = pd.Series(x).rank()\n",
    "y_rank = pd.Series(y).rank()\n",
    "\n",
    "d = x_rank - y_rank\n",
    "\n",
    "n = len(x)\n",
    "rho = 1 - (6 * (d @ d) / (n * (n**2 - 1)))\n",
    "print(f\"Коэффициент корреляции Спирмена: {rho:.3f}\")"
   ]
  },
  {
   "cell_type": "markdown",
   "id": "f2fa32e7",
   "metadata": {},
   "source": [
    "Полученное значение близко к -1 что означает сильную монотонно убывающую связь. Это подтверждается коэффициентом Пирсона"
   ]
  },
  {
   "cell_type": "markdown",
   "id": "33d301a8",
   "metadata": {},
   "source": [
    "### 1.4. Кенделла\n",
    "\n",
    "$$\\tau=\\frac{n_c−n_d}{\\frac{1}{2}n(n−1)}$$\n",
    "\n",
    "где:\n",
    "\n",
    "$n_c$ — число согласованных пар,\n",
    "\n",
    "$n_d$ — число несогласованных пар,\n",
    "\n",
    "$n$ — общее количество наблюдений."
   ]
  },
  {
   "cell_type": "code",
   "execution_count": 40,
   "id": "d7402817",
   "metadata": {},
   "outputs": [
    {
     "name": "stdout",
     "output_type": "stream",
     "text": [
      "Коэффициент корреляции Кенделла (τ): -0.932\n"
     ]
    }
   ],
   "source": [
    "from itertools import combinations\n",
    "\n",
    "n_c = 0\n",
    "n_d = 0\n",
    "n = len(x)\n",
    "\n",
    "for (i,j) in combinations(range(n), 2):\n",
    "    dx = np.sign(x[i] - x[j])\n",
    "    dy = np.sign(y[i] - y[j])\n",
    "\n",
    "    if dx*dy > 0:\n",
    "        n_c += 1\n",
    "    elif dx*dy < 0:\n",
    "        n_d += 1\n",
    "    \n",
    "tau = (n_c - n_d) / (0.5 * n * (n-1))\n",
    "print(f\"Коэффициент корреляции Кенделла (τ): {tau:.3f}\")\n"
   ]
  },
  {
   "cell_type": "markdown",
   "id": "be2d4055",
   "metadata": {},
   "source": [
    "Коэффициент Кенделла, близкий к -1, означает сильную отрицательную несогласованность. Это подтверждается значениями коэффициентов Спирмена и Пирсона"
   ]
  },
  {
   "cell_type": "markdown",
   "id": "19ddb11c",
   "metadata": {},
   "source": [
    "## 2. Визуализация"
   ]
  },
  {
   "cell_type": "markdown",
   "id": "b5663e31",
   "metadata": {},
   "source": [
    "### 2.1. Гистограммы"
   ]
  },
  {
   "cell_type": "code",
   "execution_count": 41,
   "id": "5b8bddc0",
   "metadata": {},
   "outputs": [
    {
     "data": {
      "image/png": "[encoded data removed]",
      "text/plain": [
       "<Figure size 1000x400 with 2 Axes>"
      ]
     },
     "metadata": {},
     "output_type": "display_data"
    }
   ],
   "source": [
    "import matplotlib.pyplot as plt\n",
    "\n",
    "plt.figure(figsize=(10, 4))\n",
    "\n",
    "# Гистограмма X\n",
    "plt.subplot(1, 2, 1)\n",
    "plt.hist(x, bins=5, edgecolor='black', alpha=0.7)\n",
    "plt.title(\"Гистограмма X\")\n",
    "plt.xlabel(\"Значения X\")\n",
    "plt.ylabel(\"Частота\")\n",
    "\n",
    "# Гистограмма Y\n",
    "plt.subplot(1, 2, 2)\n",
    "plt.hist(y, bins=5, edgecolor='black', alpha=0.7)\n",
    "plt.title(\"Гистограмма Y\")\n",
    "plt.xlabel(\"Значения Y\")\n",
    "\n",
    "plt.tight_layout()\n",
    "plt.show()\n"
   ]
  },
  {
   "cell_type": "markdown",
   "id": "eb481e21",
   "metadata": {},
   "source": [
    "### 2.2. График рассеяния (scatter plot)"
   ]
  },
  {
   "cell_type": "code",
   "execution_count": 42,
   "id": "4560c345",
   "metadata": {},
   "outputs": [
    {
     "data": {
      "image/png": "[encoded data removed]",
      "text/plain": [
       "<Figure size 600x500 with 1 Axes>"
      ]
     },
     "metadata": {},
     "output_type": "display_data"
    }
   ],
   "source": [
    "plt.figure(figsize=(6, 5))\n",
    "plt.scatter(x, y, color='steelblue', edgecolor='black', s=80)\n",
    "plt.title(\"График рассеяния X–Y\")\n",
    "plt.xlabel(\"X\")\n",
    "plt.ylabel(\"Y\")\n",
    "plt.grid(True)\n",
    "plt.show()\n"
   ]
  },
  {
   "cell_type": "markdown",
   "id": "0d379d00",
   "metadata": {},
   "source": [
    "## 3. Уравнение регрессии\n",
    "Построить уравнение регрессии по видам:"
   ]
  },
  {
   "cell_type": "markdown",
   "id": "4ed67e9e",
   "metadata": {},
   "source": [
    "### 3.1. линейная, $y=w_1 x + w_0$"
   ]
  },
  {
   "cell_type": "code",
   "execution_count": 43,
   "id": "f26d8c65",
   "metadata": {},
   "outputs": [
    {
     "data": {
      "text/plain": [
       "(0     3.303904\n",
       " 1     2.811750\n",
       " 2     2.965548\n",
       " 3     3.211625\n",
       " 4     3.027067\n",
       " 5     2.904028\n",
       " 6     3.119346\n",
       " 7     2.780990\n",
       " 8     2.534913\n",
       " 9     2.473394\n",
       " 10    2.442634\n",
       " 11    2.719471\n",
       " 12    2.442634\n",
       " 13    2.596432\n",
       " 14    2.196557\n",
       " 15    2.104278\n",
       " 16    2.350355\n",
       " 17    1.919720\n",
       " 18    2.596432\n",
       " 19    1.765922\n",
       " Name: mass, dtype: float64,\n",
       " np.float64(4.6880868948495875),\n",
       " np.float64(-0.030759627796139173))"
      ]
     },
     "execution_count": 43,
     "metadata": {},
     "output_type": "execute_result"
    }
   ],
   "source": [
    "def lin_reg(x, y):\n",
    "    n = len(x)\n",
    "    sx, sy = np.sum(x), np.sum(y)\n",
    "    sxx, sxy = np.sum(x**2), np.sum(x*y)\n",
    "    w1 = (n*sxy - sx*sy) / (n*sxx - sx**2)\n",
    "    w0 = np.mean(y) - w1*np.mean(x)\n",
    "    y_hat = w1*x + w0\n",
    "    return y_hat, w0, w1\n",
    "\n",
    "lin_reg(x,y)"
   ]
  },
  {
   "cell_type": "markdown",
   "id": "0d516251",
   "metadata": {},
   "source": [
    "### 3.2. квадратичная, $y = w_2 x^2 + w_1 x + w_0$"
   ]
  },
  {
   "cell_type": "code",
   "execution_count": 44,
   "id": "f5abeab0",
   "metadata": {},
   "outputs": [
    {
     "data": {
      "text/plain": [
       "(0     3.503605\n",
       " 1     2.756255\n",
       " 2     2.962670\n",
       " 3     3.344238\n",
       " 4     3.052143\n",
       " 5     2.877144\n",
       " 6     3.193751\n",
       " 7     2.717931\n",
       " 8     2.446860\n",
       " 9     2.388959\n",
       " 10    2.361488\n",
       " 11    2.644244\n",
       " 12    2.361488\n",
       " 13    2.508709\n",
       " 14    2.177236\n",
       " 15    2.124420\n",
       " 16    2.284994\n",
       " 17    2.045427\n",
       " 18    2.508709\n",
       " 19    2.006730\n",
       " Name: mass, dtype: float64,\n",
       " np.float64(6.9596104430405665),\n",
       " np.float64(-0.09899821347294895),\n",
       " np.float64(0.0004932908121906237))"
      ]
     },
     "execution_count": 44,
     "metadata": {},
     "output_type": "execute_result"
    }
   ],
   "source": [
    "def quad_reg(x, y):\n",
    "    n = len(x)\n",
    "    Sx, Sx2, Sx3, Sx4 = np.sum(x), np.sum(x**2), np.sum(x**3), np.sum(x**4)\n",
    "    Sy, Sxy, Sx2y = np.sum(y), np.sum(x*y), np.sum(x**2*y)\n",
    "    A = np.array([\n",
    "        [n, Sx, Sx2],\n",
    "        [Sx, Sx2, Sx3],\n",
    "        [Sx2, Sx3, Sx4]\n",
    "    ])\n",
    "    B = np.array([Sy, Sxy, Sx2y])\n",
    "    w0, w1, w2 = np.linalg.solve(A, B)\n",
    "    y_hat = w2*x**2 + w1*x + w0\n",
    "    return y_hat, w0, w1, w2\n",
    "\n",
    "quad_reg(x,y)"
   ]
  },
  {
   "cell_type": "markdown",
   "id": "bf239c83",
   "metadata": {},
   "source": [
    "### 3.3. гиперболическая, $y = \\frac{w_1}{x} + w_0$"
   ]
  },
  {
   "cell_type": "code",
   "execution_count": 45,
   "id": "11e4bb30",
   "metadata": {},
   "outputs": [
    {
     "data": {
      "text/plain": [
       "(0     3.532913\n",
       " 1     2.744613\n",
       " 2     2.942568\n",
       " 3     3.345076\n",
       " 4     3.032014\n",
       " 5     2.859291\n",
       " 6     3.179338\n",
       " 7     2.708854\n",
       " 8     2.459559\n",
       " 9     2.405891\n",
       " 10    2.380160\n",
       " 11    2.640687\n",
       " 12    2.380160\n",
       " 13    2.516383\n",
       " 14    2.197183\n",
       " 15    2.137552\n",
       " 16    2.307029\n",
       " 17    2.030217\n",
       " 18    2.516383\n",
       " 19    1.951128\n",
       " Name: mass, dtype: float64,\n",
       " np.float64(0.5275204317276927),\n",
       " np.float64(135.2426760314929))"
      ]
     },
     "execution_count": 45,
     "metadata": {},
     "output_type": "execute_result"
    }
   ],
   "source": [
    "def hyp_reg(x, y):\n",
    "    z = 1/x\n",
    "    return lin_reg(z, y)  # просто линейная по z\n",
    "\n",
    "hyp_reg(x,y)"
   ]
  },
  {
   "cell_type": "markdown",
   "id": "22cebe8c",
   "metadata": {},
   "source": [
    "### 3.4. показательная, $y = w_1^x \\cdot w_0$"
   ]
  },
  {
   "cell_type": "code",
   "execution_count": 46,
   "id": "1e00dae6",
   "metadata": {},
   "outputs": [
    {
     "data": {
      "text/plain": [
       "(0     3.356140\n",
       " 1     2.782516\n",
       " 2     2.950366\n",
       " 3     3.240239\n",
       " 4     3.020308\n",
       " 5     2.882044\n",
       " 6     3.128342\n",
       " 7     2.750110\n",
       " 8     2.504083\n",
       " 9     2.446096\n",
       " 10    2.417608\n",
       " 11    2.686425\n",
       " 12    2.417608\n",
       " 13    2.563446\n",
       " 14    2.201327\n",
       " 15    2.125307\n",
       " 16    2.334118\n",
       " 17    1.981052\n",
       " 18    2.563446\n",
       " 19    1.868347\n",
       " Name: mass, dtype: float64,\n",
       " np.float64(5.685705158191577),\n",
       " np.float64(0.9883536023507961))"
      ]
     },
     "execution_count": 46,
     "metadata": {},
     "output_type": "execute_result"
    }
   ],
   "source": [
    "def exp_reg(x, y):\n",
    "    Y = np.log(y)\n",
    "    y_hat_log, A, B = lin_reg(x, Y)\n",
    "    w0, w1 = np.exp(A), np.exp(B)\n",
    "    y_hat = w0 * (w1**x)\n",
    "    return y_hat, w0, w1\n",
    "\n",
    "exp_reg(x,y)"
   ]
  },
  {
   "cell_type": "code",
   "execution_count": 47,
   "id": "3171bf3f",
   "metadata": {},
   "outputs": [
    {
     "name": "stdout",
     "output_type": "stream",
     "text": [
      "R² для всех моделей:\n",
      " {'Линейная': np.float64(0.9227705659015859), 'Квадратичная': np.float64(0.9779302384431464), 'Гиперболическая': np.float64(0.979132744595704), 'Показательная': np.float64(0.9542387362820843)}\n"
     ]
    }
   ],
   "source": [
    "def determination(y, y_hat):\n",
    "    return 1 - np.sum((y - y_hat)**2) / np.sum((y - np.mean(y))**2)\n",
    "\n",
    "# Построение всех регрессий\n",
    "y_lin, w0_lin, w1_lin = lin_reg(x, y)\n",
    "y_quad, w0_q, w1_q, w2_q = quad_reg(x, y)\n",
    "y_hyp, w0_h, w1_h = hyp_reg(x, y)\n",
    "y_exp, w0_e, w1_e = exp_reg(x, y)\n",
    "\n",
    "# R²\n",
    "r2 = {\n",
    "    \"Линейная\": determination(y, y_lin),\n",
    "    \"Квадратичная\": determination(y, y_quad),\n",
    "    \"Гиперболическая\": determination(y, y_hyp),\n",
    "    \"Показательная\": determination(y, y_exp)\n",
    "}\n",
    "print(\"R² для всех моделей:\\n\", r2)"
   ]
  },
  {
   "cell_type": "markdown",
   "id": "b27644da",
   "metadata": {},
   "source": [
    "### Показать результаты на графиках"
   ]
  },
  {
   "cell_type": "code",
   "execution_count": 48,
   "id": "334e2920",
   "metadata": {},
   "outputs": [
    {
     "data": {
      "image/png": "[encoded data removed]",
      "text/plain": [
       "<Figure size 1000x700 with 1 Axes>"
      ]
     },
     "metadata": {},
     "output_type": "display_data"
    }
   ],
   "source": [
    "# Графики\n",
    "plt.figure(figsize=(10,7))\n",
    "plt.scatter(x, y, label=\"Данные\", color=\"black\")\n",
    "plt.plot(x, y_lin, label=f\"Линейная (R²={r2['Линейная']:.3f})\")\n",
    "plt.plot(x, y_quad, label=f\"Квадратичная (R²={r2['Квадратичная']:.3f})\")\n",
    "plt.plot(x, y_hyp, label=f\"Гиперболическая (R²={r2['Гиперболическая']:.3f})\")\n",
    "plt.plot(x, y_exp, label=f\"Показательная (R²={r2['Показательная']:.3f})\")\n",
    "plt.legend()\n",
    "plt.grid()\n",
    "plt.show()"
   ]
  },
  {
   "cell_type": "markdown",
   "id": "020dbe1e",
   "metadata": {},
   "source": [
    "## 4. Проверка уравнения регрессии\n",
    "Для наилучшего и наихудшего уравнения регрессии проверить соотвествие моедли данным с помощью критерия Фишера"
   ]
  },
  {
   "cell_type": "code",
   "execution_count": 49,
   "id": "67fca5a4",
   "metadata": {},
   "outputs": [
    {
     "name": "stdout",
     "output_type": "stream",
     "text": [
      "Гиперболическая: F=844.595, Fкр=4.414 → значима\n",
      "Линейная: F=215.072, Fкр=4.414 → значима\n"
     ]
    }
   ],
   "source": [
    "from scipy import stats\n",
    "# Фишер\n",
    "def fisher(R2, k):\n",
    "    F = (R2/k) / ((1 - R2)/(n - k - 1))\n",
    "    F_crit = stats.f.ppf(0.95, k, n - k - 1)\n",
    "    return F, F_crit, F > F_crit\n",
    "\n",
    "best = max(r2, key=r2.get)\n",
    "worst = min(r2, key=r2.get)\n",
    "\n",
    "for model in [best, worst]:\n",
    "    k = 2 if model == \"Квадратичная\" else 1\n",
    "    F, F_crit, signif = fisher(r2[model], k)\n",
    "    print(f\"{model}: F={F:.3f}, Fкр={F_crit:.3f} → {'значима' if signif else 'не значима'}\")"
   ]
  }
 ],
 "metadata": {
  "kernelspec": {
   "display_name": ".venv",
   "language": "python",
   "name": "python3"
  },
  "language_info": {
   "codemirror_mode": {
    "name": "ipython",
    "version": 3
   },
   "file_extension": ".py",
   "mimetype": "text/x-python",
   "name": "python",
   "nbconvert_exporter": "python",
   "pygments_lexer": "ipython3",
   "version": "3.12.6"
  }
 },
 "nbformat": 4,
 "nbformat_minor": 5
}
