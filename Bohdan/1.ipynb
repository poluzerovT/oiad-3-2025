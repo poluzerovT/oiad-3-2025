{
 "cells": [
  {
   "cell_type": "markdown",
   "id": "200143ee",
   "metadata": {},
   "source": [
    "# ОИАД. Лабораторная работа №1\n",
    "\n",
    "Используйте набор данных 'datasets/teen_phone_addiction_dataset.csv'. \n",
    "\n",
    "Возьмите столбец $N \\% 7 $, где $N$ - номер в списке группы (см. ниже).\n",
    "\n",
    "## I. \n",
    "Рассчитайте характеристики:\n",
    "1. Среднее\n",
    "2. Дисперсия\n",
    "3. Мода\n",
    "4. Медиана\n",
    "5. Квантили уровня 0.25, 0.5, 0.75\n",
    "6. Эксцесс\n",
    "7. Ассиметрия\n",
    "8. Интерквартильный размах\n",
    "\n",
    "Построить графики:\n",
    "1. Гистограмма\n",
    "2. Эмпирическая функция распределения\n",
    "\n",
    "## II. \n",
    "Проверить данные на нормальность, используя критерии:\n",
    "1. Хи-квадрат (Реализовать самому, не используя библиотечные варианты!!)\n",
    "2. Ассиметрии и эксцесса\n",
    "\n",
    "Построить Q-Q plot\n",
    "\n",
    "## III. \n",
    "Используя техники обработки данных, постарайтесь привести данные к нормальному распределению.  Например, с помощью:\n",
    "1. Удаление, усечение выбросов\n",
    "2. Стандартизация, нормировка\n",
    "3. Логарифмирование и т.п.\n",
    "\n",
    "Выполните пункты I и II для обработанных данных\n",
    "\n",
    "## IV.\n",
    "Сгруппируйте данные по столбцу 'School_Grade'. \n",
    "\n",
    "1. На одном графике постройте гистограммы для каждой группы.\n",
    "2. Рассчитайте среднее, дисперсию внутри каждой группы\n",
    "\n",
    "## V.\n",
    "После каждого пункта сделайте промежуточные выводы:\n",
    "1. Опишите полученные числовые характеристики и графики\n",
    "2. Являются ли данные нормальными\n",
    "3. Эффект от обработки данных (удалось ли привести данные к нормальному виду)\n",
    "4. Различия распределений внутри разных групп 'School_Grade'\n",
    "\n",
    "\n"
   ]
  },
  {
   "cell_type": "code",
   "id": "fba77674",
   "metadata": {
    "ExecuteTime": {
     "end_time": "2025-09-14T15:39:19.823789Z",
     "start_time": "2025-09-14T15:39:19.821399Z"
    }
   },
   "source": [
    "import pandas as pd\n",
    "\n",
    "N = 8\n",
    "cols = ['Daily_Usage_Hours', 'Sleep_Hours', 'Exercise_Hours', 'Screen_Time_Before_Bed', 'Time_on_Social_Media',\n",
    "        'Time_on_Gaming', 'Time_on_Education']\n",
    "col = cols[N % 7]"
   ],
   "outputs": [],
   "execution_count": 8
  },
  {
   "metadata": {
    "ExecuteTime": {
     "end_time": "2025-09-14T15:39:19.841718Z",
     "start_time": "2025-09-14T15:39:19.834453Z"
    }
   },
   "cell_type": "code",
   "source": [
    "import pandas as pd\n",
    "\n",
    "data = pd.read_csv(\"../datasets/teen_phone_addiction_dataset.csv\")"
   ],
   "id": "7933b3e6e8a4dab5",
   "outputs": [],
   "execution_count": 9
  },
  {
   "metadata": {},
   "cell_type": "markdown",
   "source": "## 1",
   "id": "a331e6607594db92"
  },
  {
   "metadata": {
    "ExecuteTime": {
     "end_time": "2025-09-14T15:39:19.853369Z",
     "start_time": "2025-09-14T15:39:19.849507Z"
    }
   },
   "cell_type": "code",
   "source": [
    "import numpy as np\n",
    "\n",
    "np.mean(data[col])"
   ],
   "id": "c63e939c0d9e8bdd",
   "outputs": [
    {
     "data": {
      "text/plain": [
       "np.float64(6.489766666666668)"
      ]
     },
     "execution_count": 10,
     "metadata": {},
     "output_type": "execute_result"
    }
   ],
   "execution_count": 10
  },
  {
   "metadata": {
    "ExecuteTime": {
     "end_time": "2025-09-14T15:39:19.869608Z",
     "start_time": "2025-09-14T15:39:19.867266Z"
    }
   },
   "cell_type": "code",
   "source": "np.var(data[col])",
   "id": "8b5980806e74c31e",
   "outputs": [
    {
     "data": {
      "text/plain": [
       "np.float64(2.221485278888889)"
      ]
     },
     "execution_count": 11,
     "metadata": {},
     "output_type": "execute_result"
    }
   ],
   "execution_count": 11
  },
  {
   "metadata": {
    "ExecuteTime": {
     "end_time": "2025-09-14T15:39:19.885664Z",
     "start_time": "2025-09-14T15:39:19.882943Z"
    }
   },
   "cell_type": "code",
   "source": [
    "import scipy\n",
    "\n",
    "scipy.stats.mode(data[col])"
   ],
   "id": "5c92841e99ddd86a",
   "outputs": [
    {
     "data": {
      "text/plain": [
       "ModeResult(mode=np.float64(6.1), count=np.int64(89))"
      ]
     },
     "execution_count": 12,
     "metadata": {},
     "output_type": "execute_result"
    }
   ],
   "execution_count": 12
  },
  {
   "metadata": {
    "ExecuteTime": {
     "end_time": "2025-09-14T15:39:19.902104Z",
     "start_time": "2025-09-14T15:39:19.899452Z"
    }
   },
   "cell_type": "code",
   "source": "np.median(data[col])",
   "id": "a993cb871ea189a5",
   "outputs": [
    {
     "data": {
      "text/plain": [
       "np.float64(6.5)"
      ]
     },
     "execution_count": 13,
     "metadata": {},
     "output_type": "execute_result"
    }
   ],
   "execution_count": 13
  },
  {
   "metadata": {
    "ExecuteTime": {
     "end_time": "2025-09-14T15:39:19.917547Z",
     "start_time": "2025-09-14T15:39:19.914907Z"
    }
   },
   "cell_type": "code",
   "source": "np.quantile(data[col], 0.25)",
   "id": "2ef28f6664c06925",
   "outputs": [
    {
     "data": {
      "text/plain": [
       "np.float64(5.5)"
      ]
     },
     "execution_count": 14,
     "metadata": {},
     "output_type": "execute_result"
    }
   ],
   "execution_count": 14
  },
  {
   "metadata": {},
   "cell_type": "markdown",
   "source": "Квантиль порядка 0.5 - это медиана",
   "id": "a650cb9efcde51"
  },
  {
   "metadata": {
    "ExecuteTime": {
     "end_time": "2025-09-14T15:39:19.933193Z",
     "start_time": "2025-09-14T15:39:19.930119Z"
    }
   },
   "cell_type": "code",
   "source": "np.quantile(data[col], 0.75)",
   "id": "afba3743d5cb14b8",
   "outputs": [
    {
     "data": {
      "text/plain": [
       "np.float64(7.5)"
      ]
     },
     "execution_count": 15,
     "metadata": {},
     "output_type": "execute_result"
    }
   ],
   "execution_count": 15
  },
  {
   "metadata": {
    "ExecuteTime": {
     "end_time": "2025-09-14T15:39:19.948652Z",
     "start_time": "2025-09-14T15:39:19.945516Z"
    }
   },
   "cell_type": "code",
   "source": "scipy.stats.kurtosis(data[col])",
   "id": "86cae42b362e6c28",
   "outputs": [
    {
     "data": {
      "text/plain": [
       "np.float64(-0.2969486466071465)"
      ]
     },
     "execution_count": 16,
     "metadata": {},
     "output_type": "execute_result"
    }
   ],
   "execution_count": 16
  },
  {
   "metadata": {
    "ExecuteTime": {
     "end_time": "2025-09-14T15:39:19.961892Z",
     "start_time": "2025-09-14T15:39:19.959370Z"
    }
   },
   "cell_type": "code",
   "source": "scipy.stats.skew(data[col])",
   "id": "8dc9dc7482a9cd0d",
   "outputs": [
    {
     "data": {
      "text/plain": [
       "np.float64(0.011848322655812933)"
      ]
     },
     "execution_count": 17,
     "metadata": {},
     "output_type": "execute_result"
    }
   ],
   "execution_count": 17
  },
  {
   "metadata": {
    "ExecuteTime": {
     "end_time": "2025-09-14T15:39:19.974421Z",
     "start_time": "2025-09-14T15:39:19.972128Z"
    }
   },
   "cell_type": "code",
   "source": "scipy.stats.iqr(data[col])",
   "id": "d0443edb0ac3d05b",
   "outputs": [
    {
     "data": {
      "text/plain": [
       "np.float64(2.0)"
      ]
     },
     "execution_count": 18,
     "metadata": {},
     "output_type": "execute_result"
    }
   ],
   "execution_count": 18
  },
  {
   "metadata": {
    "ExecuteTime": {
     "end_time": "2025-09-14T15:39:20.262931Z",
     "start_time": "2025-09-14T15:39:19.986450Z"
    }
   },
   "cell_type": "code",
   "source": [
    "import matplotlib.pyplot as plt\n",
    "\n",
    "n = len(data[col])\n",
    "data[col].hist(bins=1 + int(1 + int(np.log2(n))))\n",
    "plt.xlabel('Значения')\n",
    "plt.ylabel('Частота')\n",
    "plt.title('Гистограмма')\n",
    "plt.show()"
   ],
   "id": "6485130ab5ee4334",
   "outputs": [
    {
     "data": {
      "text/plain": [
       "<Figure size 640x480 with 1 Axes>"
      ],
      "image/png": "[encoded data removed]"
     },
     "metadata": {},
     "output_type": "display_data"
    }
   ],
   "execution_count": 19
  },
  {
   "metadata": {
    "ExecuteTime": {
     "end_time": "2025-09-14T15:39:20.269325Z",
     "start_time": "2025-09-14T15:39:20.266994Z"
    }
   },
   "cell_type": "code",
   "source": [
    "import typing as tp\n",
    "\n",
    "\n",
    "def stat_distribution(data: tp.List[float]) -> tp.Tuple[tp.List[float], tp.List[float]]:\n",
    "    sorted_data = sorted(data)\n",
    "    n = len(sorted_data)\n",
    "    k = 1 + int(np.log2(n))\n",
    "\n",
    "    x_min = min(data)\n",
    "    x_max = max(data)\n",
    "    h = (x_max - x_min) / k\n",
    "    a = [x_min + i * h for i in range(k + 1)]\n",
    "\n",
    "    cumulative_freq = [0]\n",
    "    for i in range(1, k + 1):  # все равно nlog(n) так что, надеюсь, не очень страшно\n",
    "        count = sum(1 for x in sorted_data if a[i - 1] <= x < a[i])\n",
    "        cumulative_freq.append(cumulative_freq[-1] + count)\n",
    "\n",
    "    cumulative_freq = [freq / n for freq in cumulative_freq]\n",
    "    return a, cumulative_freq\n"
   ],
   "id": "e6a280d2a23e85f0",
   "outputs": [],
   "execution_count": 20
  },
  {
   "metadata": {
    "ExecuteTime": {
     "end_time": "2025-09-14T15:39:20.310731Z",
     "start_time": "2025-09-14T15:39:20.274574Z"
    }
   },
   "cell_type": "code",
   "source": [
    "plt.figure(figsize=(10, 6))\n",
    "plt.step(*stat_distribution(data[col]), where='post')\n",
    "plt.title('Выборочная функция распределения')\n",
    "plt.xlabel('x')\n",
    "plt.ylabel('F(x)')\n",
    "plt.grid(True)\n",
    "plt.show()"
   ],
   "id": "f05fc300dfb97457",
   "outputs": [
    {
     "data": {
      "text/plain": [
       "<Figure size 1000x600 with 1 Axes>"
      ],
      "image/png": "[encoded data removed]"
     },
     "metadata": {},
     "output_type": "display_data"
    }
   ],
   "execution_count": 21
  },
  {
   "metadata": {},
   "cell_type": "markdown",
   "source": "В итоге у нас бимодальное распределение, у которого правый хвост чуть \"тяжелее\" (коэффициент ассиметрии чуть больше 0) и само оно почти симметричное (по той же причине). Т.е. скорее всего мы сразу получили не очень хорошие данные и их нужно или разбить на подвыборки и исследовать их отдельно, или провести какую-либо обработку данных",
   "id": "91be226e601ca54b"
  },
  {
   "metadata": {},
   "cell_type": "markdown",
   "source": "## 2",
   "id": "33c48630aa31ff22"
  },
  {
   "metadata": {
    "ExecuteTime": {
     "end_time": "2025-09-14T15:39:20.320793Z",
     "start_time": "2025-09-14T15:39:20.318069Z"
    }
   },
   "cell_type": "code",
   "source": [
    "from scipy import stats\n",
    "from scipy.stats import norm, chi2\n",
    "\n",
    "\n",
    "def qhi_test(data: tp.List[float], alpha=0.05) -> bool:\n",
    "    n = len(data)\n",
    "    k = 1 + int(np.log2(n))\n",
    "    intervals = np.linspace(min(data), max(data), k + 1)\n",
    "    real_freq, bin_edges = np.histogram(data, bins=intervals)\n",
    "    expected_freq = np.array([norm.cdf(bin_edges[i + 1], np.mean(data), np.sqrt(np.var(data, ddof=1, axis=0))) - norm.cdf(\n",
    "        bin_edges[i], np.mean(data), np.sqrt(np.var(data, ddof=1, axis=0))) for i in range(k)]) * n\n",
    "    chi_stat = np.sum((real_freq - expected_freq) ** 2 / (expected_freq + 1e-6))\n",
    "    deg = k - 1 - 2\n",
    "    crit_val = chi2.ppf(1 - alpha / 2, deg) + (1 - chi2.ppf(alpha / 2, deg))\n",
    "    return chi_stat < crit_val\n"
   ],
   "id": "1a11fa605d9cfd00",
   "outputs": [],
   "execution_count": 22
  },
  {
   "metadata": {
    "ExecuteTime": {
     "end_time": "2025-09-14T15:39:20.332833Z",
     "start_time": "2025-09-14T15:39:20.327299Z"
    }
   },
   "cell_type": "code",
   "source": "qhi_test(data[col])",
   "id": "1bfa9ebbbc6c0037",
   "outputs": [
    {
     "data": {
      "text/plain": [
       "np.False_"
      ]
     },
     "execution_count": 23,
     "metadata": {},
     "output_type": "execute_result"
    }
   ],
   "execution_count": 23
  },
  {
   "metadata": {
    "ExecuteTime": {
     "end_time": "2025-09-14T15:39:20.340507Z",
     "start_time": "2025-09-14T15:39:20.336944Z"
    }
   },
   "cell_type": "code",
   "source": [
    "_, pval = scipy.stats.normaltest(data[col])\n",
    "pval < (alpha := 0.05)  # т.е. отвергаем нулевую гипотезу, что пришло из нормального"
   ],
   "id": "42337fa25d368ef4",
   "outputs": [
    {
     "data": {
      "text/plain": [
       "np.True_"
      ]
     },
     "execution_count": 24,
     "metadata": {},
     "output_type": "execute_result"
    }
   ],
   "execution_count": 24
  },
  {
   "metadata": {
    "ExecuteTime": {
     "end_time": "2025-09-14T15:39:20.353727Z",
     "start_time": "2025-09-14T15:39:20.351481Z"
    }
   },
   "cell_type": "code",
   "source": "pval",
   "id": "d1d2265955dfd6c6",
   "outputs": [
    {
     "data": {
      "text/plain": [
       "np.float64(0.0005638709573326588)"
      ]
     },
     "execution_count": 25,
     "metadata": {},
     "output_type": "execute_result"
    }
   ],
   "execution_count": 25
  },
  {
   "metadata": {
    "ExecuteTime": {
     "end_time": "2025-09-14T15:39:20.399907Z",
     "start_time": "2025-09-14T15:39:20.364661Z"
    }
   },
   "cell_type": "code",
   "source": [
    "stats.probplot(data[col], dist=\"norm\", plot=plt)\n",
    "plt.title(\"Q-Q plot (сравнение с нормальным)\")\n",
    "plt.show()"
   ],
   "id": "2295bf82a9b79554",
   "outputs": [
    {
     "data": {
      "text/plain": [
       "<Figure size 640x480 with 1 Axes>"
      ],
      "image/png": "[encoded data removed]"
     },
     "metadata": {},
     "output_type": "display_data"
    }
   ],
   "execution_count": 26
  },
  {
   "metadata": {},
   "cell_type": "markdown",
   "source": "Нет, оба теста говорят, что дулевая гипотеза о том, что данные пришли из нормального распределния - ложна. Q-Q плот одновременно напоминает нормальное и равномерное (из-за обрезанных \"хвостов\") распределения ([то, при помощи чего пытался разобраться](https://habr.com/ru/articles/578754))",
   "id": "6cc5d2ca25c74ccb"
  },
  {
   "metadata": {},
   "cell_type": "markdown",
   "source": "# 3",
   "id": "9cc14b422c607534"
  },
  {
   "metadata": {
    "ExecuteTime": {
     "end_time": "2025-09-14T15:39:20.410924Z",
     "start_time": "2025-09-14T15:39:20.408304Z"
    }
   },
   "cell_type": "code",
   "source": [
    "from collections import Counter\n",
    "\n",
    "sorted(Counter(data[col]).keys())"
   ],
   "id": "7f7c044032adbcf",
   "outputs": [
    {
     "data": {
      "text/plain": [
       "[3.0,\n",
       " 3.1,\n",
       " 3.2,\n",
       " 3.3,\n",
       " 3.4,\n",
       " 3.5,\n",
       " 3.6,\n",
       " 3.7,\n",
       " 3.8,\n",
       " 3.9,\n",
       " 4.0,\n",
       " 4.1,\n",
       " 4.2,\n",
       " 4.3,\n",
       " 4.4,\n",
       " 4.5,\n",
       " 4.6,\n",
       " 4.7,\n",
       " 4.8,\n",
       " 4.9,\n",
       " 5.0,\n",
       " 5.1,\n",
       " 5.2,\n",
       " 5.3,\n",
       " 5.4,\n",
       " 5.5,\n",
       " 5.6,\n",
       " 5.7,\n",
       " 5.8,\n",
       " 5.9,\n",
       " 6.0,\n",
       " 6.1,\n",
       " 6.2,\n",
       " 6.3,\n",
       " 6.4,\n",
       " 6.5,\n",
       " 6.6,\n",
       " 6.7,\n",
       " 6.8,\n",
       " 6.9,\n",
       " 7.0,\n",
       " 7.1,\n",
       " 7.2,\n",
       " 7.3,\n",
       " 7.4,\n",
       " 7.5,\n",
       " 7.6,\n",
       " 7.7,\n",
       " 7.8,\n",
       " 7.9,\n",
       " 8.0,\n",
       " 8.1,\n",
       " 8.2,\n",
       " 8.3,\n",
       " 8.4,\n",
       " 8.5,\n",
       " 8.6,\n",
       " 8.7,\n",
       " 8.8,\n",
       " 8.9,\n",
       " 9.0,\n",
       " 9.1,\n",
       " 9.2,\n",
       " 9.3,\n",
       " 9.4,\n",
       " 9.5,\n",
       " 9.6,\n",
       " 9.7,\n",
       " 9.8,\n",
       " 9.9,\n",
       " 10.0]"
      ]
     },
     "execution_count": 27,
     "metadata": {},
     "output_type": "execute_result"
    }
   ],
   "execution_count": 27
  },
  {
   "metadata": {},
   "cell_type": "markdown",
   "source": "Можно заметить, что явных выбросов нет",
   "id": "ed6153fbed96bcc5"
  },
  {
   "metadata": {
    "ExecuteTime": {
     "end_time": "2025-09-14T15:39:20.583845Z",
     "start_time": "2025-09-14T15:39:20.420760Z"
    }
   },
   "cell_type": "code",
   "source": [
    "from scipy.stats import boxcox, zscore\n",
    "from sklearn.preprocessing import PowerTransformer\n",
    "\n",
    "pt = PowerTransformer(method='yeo-johnson')\n",
    "\n",
    "datas = [scipy.stats.zscore(np.log(data[col]) - np.min(data[col]) + 1e-12),\n",
    "         scipy.stats.zscore(data[col]),\n",
    "         scipy.stats.zscore(np.log1p(np.abs(np.log(data[col]) - np.mean(data[col]))) * np.sign(data[col])),\n",
    "         pt.fit_transform(data[[col]]),\n",
    "         np.log1p(data[col]),\n",
    "         np.exp(data[col])\n",
    "         ]\n",
    "datas_res = [scipy.stats.normaltest(data)[1] for data in datas]\n",
    "datas_res = [np.ravel(d) for d in datas_res]\n",
    "max_idx = np.argmax(datas_res)\n",
    "data_new = [elem[0] for elem in datas[max_idx]]\n",
    "max_idx"
   ],
   "id": "a12346f164381f25",
   "outputs": [
    {
     "data": {
      "text/plain": [
       "np.int64(3)"
      ]
     },
     "execution_count": 28,
     "metadata": {},
     "output_type": "execute_result"
    }
   ],
   "execution_count": 28
  },
  {
   "metadata": {
    "ExecuteTime": {
     "end_time": "2025-09-14T15:39:20.595144Z",
     "start_time": "2025-09-14T15:39:20.592018Z"
    }
   },
   "cell_type": "code",
   "source": [
    "_, pval = scipy.stats.normaltest(data_new)\n",
    "pval"
   ],
   "id": "d0311abe31466414",
   "outputs": [
    {
     "data": {
      "text/plain": [
       "np.float64(0.0007449048171717407)"
      ]
     },
     "execution_count": 29,
     "metadata": {},
     "output_type": "execute_result"
    }
   ],
   "execution_count": 29
  },
  {
   "metadata": {},
   "cell_type": "markdown",
   "source": "## 3.2",
   "id": "1f95223a52d97808"
  },
  {
   "metadata": {
    "ExecuteTime": {
     "end_time": "2025-09-14T15:39:20.607378Z",
     "start_time": "2025-09-14T15:39:20.605551Z"
    }
   },
   "cell_type": "code",
   "source": "np.mean(data_new)",
   "id": "b457399cee69516e",
   "outputs": [
    {
     "data": {
      "text/plain": [
       "np.float64(-2.877698079828406e-16)"
      ]
     },
     "execution_count": 30,
     "metadata": {},
     "output_type": "execute_result"
    }
   ],
   "execution_count": 30
  },
  {
   "metadata": {
    "ExecuteTime": {
     "end_time": "2025-09-14T15:39:20.622173Z",
     "start_time": "2025-09-14T15:39:20.620011Z"
    }
   },
   "cell_type": "code",
   "source": "np.var(data_new)",
   "id": "548d02e46618bfcf",
   "outputs": [
    {
     "data": {
      "text/plain": [
       "np.float64(1.0)"
      ]
     },
     "execution_count": 31,
     "metadata": {},
     "output_type": "execute_result"
    }
   ],
   "execution_count": 31
  },
  {
   "metadata": {
    "ExecuteTime": {
     "end_time": "2025-09-14T15:39:20.636161Z",
     "start_time": "2025-09-14T15:39:20.633724Z"
    }
   },
   "cell_type": "code",
   "source": "scipy.stats.mode(data_new)",
   "id": "add9f2dafe66460",
   "outputs": [
    {
     "data": {
      "text/plain": [
       "ModeResult(mode=np.float64(-0.255454990316795), count=np.int64(89))"
      ]
     },
     "execution_count": 32,
     "metadata": {},
     "output_type": "execute_result"
    }
   ],
   "execution_count": 32
  },
  {
   "metadata": {
    "ExecuteTime": {
     "end_time": "2025-09-14T15:39:20.651565Z",
     "start_time": "2025-09-14T15:39:20.648800Z"
    }
   },
   "cell_type": "code",
   "source": "np.median(data_new)",
   "id": "600b0b52856d2d97",
   "outputs": [
    {
     "data": {
      "text/plain": [
       "np.float64(0.013025134557306327)"
      ]
     },
     "execution_count": 33,
     "metadata": {},
     "output_type": "execute_result"
    }
   ],
   "execution_count": 33
  },
  {
   "metadata": {
    "ExecuteTime": {
     "end_time": "2025-09-14T15:39:20.665582Z",
     "start_time": "2025-09-14T15:39:20.662982Z"
    }
   },
   "cell_type": "code",
   "source": "np.quantile(data_new, 0.25)",
   "id": "ae6b3b8cabd4318e",
   "outputs": [
    {
     "data": {
      "text/plain": [
       "np.float64(-0.6599226981566061)"
      ]
     },
     "execution_count": 34,
     "metadata": {},
     "output_type": "execute_result"
    }
   ],
   "execution_count": 34
  },
  {
   "metadata": {
    "ExecuteTime": {
     "end_time": "2025-09-14T15:39:20.678697Z",
     "start_time": "2025-09-14T15:39:20.676083Z"
    }
   },
   "cell_type": "code",
   "source": "np.quantile(data_new, 0.75)",
   "id": "25755cfffbae81c3",
   "outputs": [
    {
     "data": {
      "text/plain": [
       "np.float64(0.6805190319108813)"
      ]
     },
     "execution_count": 35,
     "metadata": {},
     "output_type": "execute_result"
    }
   ],
   "execution_count": 35
  },
  {
   "metadata": {
    "ExecuteTime": {
     "end_time": "2025-09-14T15:39:20.693586Z",
     "start_time": "2025-09-14T15:39:20.690679Z"
    }
   },
   "cell_type": "code",
   "source": "scipy.stats.kurtosis(data_new)",
   "id": "8503dfd3d8ca1b5e",
   "outputs": [
    {
     "data": {
      "text/plain": [
       "np.float64(-0.2911472048214878)"
      ]
     },
     "execution_count": 36,
     "metadata": {},
     "output_type": "execute_result"
    }
   ],
   "execution_count": 36
  },
  {
   "metadata": {
    "ExecuteTime": {
     "end_time": "2025-09-14T15:39:20.706518Z",
     "start_time": "2025-09-14T15:39:20.703887Z"
    }
   },
   "cell_type": "code",
   "source": "scipy.stats.skew(data_new)",
   "id": "c7e572fee2352d6a",
   "outputs": [
    {
     "data": {
      "text/plain": [
       "np.float64(-0.020130114711828056)"
      ]
     },
     "execution_count": 37,
     "metadata": {},
     "output_type": "execute_result"
    }
   ],
   "execution_count": 37
  },
  {
   "metadata": {
    "ExecuteTime": {
     "end_time": "2025-09-14T15:39:20.719578Z",
     "start_time": "2025-09-14T15:39:20.716859Z"
    }
   },
   "cell_type": "code",
   "source": "scipy.stats.iqr(data_new)",
   "id": "fd258969de93f860",
   "outputs": [
    {
     "data": {
      "text/plain": [
       "np.float64(1.3404417300674873)"
      ]
     },
     "execution_count": 38,
     "metadata": {},
     "output_type": "execute_result"
    }
   ],
   "execution_count": 38
  },
  {
   "metadata": {
    "ExecuteTime": {
     "end_time": "2025-09-14T15:39:20.764367Z",
     "start_time": "2025-09-14T15:39:20.729431Z"
    }
   },
   "cell_type": "code",
   "source": [
    "import matplotlib.pyplot as plt\n",
    "\n",
    "pd.DataFrame(data_new).hist(bins=1 + int(1 + int(np.log2(n))))\n",
    "plt.xlabel('Значения')\n",
    "plt.ylabel('Частота')\n",
    "plt.title('Гистограмма')\n",
    "plt.show()"
   ],
   "id": "1509871c2f1ae3af",
   "outputs": [
    {
     "data": {
      "text/plain": [
       "<Figure size 640x480 with 1 Axes>"
      ],
      "image/png": "[encoded data removed]"
     },
     "metadata": {},
     "output_type": "display_data"
    }
   ],
   "execution_count": 39
  },
  {
   "metadata": {
    "ExecuteTime": {
     "end_time": "2025-09-14T15:39:20.799643Z",
     "start_time": "2025-09-14T15:39:20.767635Z"
    }
   },
   "cell_type": "code",
   "source": [
    "plt.figure(figsize=(10, 6))\n",
    "plt.step(*stat_distribution(data_new), where='post')\n",
    "plt.title('Выборочная функция распределения')\n",
    "plt.xlabel('x')\n",
    "plt.ylabel('F(x)')\n",
    "plt.grid(True)\n",
    "plt.show()"
   ],
   "id": "e191a62144991bdd",
   "outputs": [
    {
     "data": {
      "text/plain": [
       "<Figure size 1000x600 with 1 Axes>"
      ],
      "image/png": "[encoded data removed]"
     },
     "metadata": {},
     "output_type": "display_data"
    }
   ],
   "execution_count": 40
  },
  {
   "metadata": {
    "ExecuteTime": {
     "end_time": "2025-09-14T15:39:20.815580Z",
     "start_time": "2025-09-14T15:39:20.808359Z"
    }
   },
   "cell_type": "code",
   "source": "qhi_test(data_new, 0.05)",
   "id": "8e45461cd4b3077e",
   "outputs": [
    {
     "data": {
      "text/plain": [
       "np.False_"
      ]
     },
     "execution_count": 41,
     "metadata": {},
     "output_type": "execute_result"
    }
   ],
   "execution_count": 41
  },
  {
   "metadata": {
    "ExecuteTime": {
     "end_time": "2025-09-14T15:39:20.820720Z",
     "start_time": "2025-09-14T15:39:20.818614Z"
    }
   },
   "cell_type": "code",
   "source": "_, pval = scipy.stats.normaltest(data_new)",
   "id": "eb82afd1a646cf60",
   "outputs": [],
   "execution_count": 42
  },
  {
   "metadata": {
    "ExecuteTime": {
     "end_time": "2025-09-14T15:39:20.828141Z",
     "start_time": "2025-09-14T15:39:20.826094Z"
    }
   },
   "cell_type": "code",
   "source": "pval < (alpha := 0.05)  # т.е. отвергаем нулевую гипотезу, что пришло из нормального",
   "id": "f5baf2273f922a25",
   "outputs": [
    {
     "data": {
      "text/plain": [
       "np.True_"
      ]
     },
     "execution_count": 43,
     "metadata": {},
     "output_type": "execute_result"
    }
   ],
   "execution_count": 43
  },
  {
   "metadata": {
    "ExecuteTime": {
     "end_time": "2025-09-14T15:39:20.872709Z",
     "start_time": "2025-09-14T15:39:20.838373Z"
    }
   },
   "cell_type": "code",
   "source": [
    "stats.probplot(data_new, dist=\"norm\", plot=plt)\n",
    "plt.title(\"Q-Q plot (сравнение с нормальным)\")\n",
    "plt.show()"
   ],
   "id": "968c8c7d0d19822f",
   "outputs": [
    {
     "data": {
      "text/plain": [
       "<Figure size 640x480 with 1 Axes>"
      ],
      "image/png": "[encoded data removed]"
     },
     "metadata": {},
     "output_type": "display_data"
    }
   ],
   "execution_count": 44
  },
  {
   "metadata": {},
   "cell_type": "markdown",
   "source": "Нет, данные не удалось привести к нормальному виду, однако теперь распределение явно уномодальное, но у него все еще более \"легкие\" хвосты, по сравнению с нормальным распределением и правый хвост чуть более тяжелый",
   "id": "f74a9ebf895d02cb"
  },
  {
   "metadata": {},
   "cell_type": "markdown",
   "source": "### 4",
   "id": "9f7e308d60d19fd0"
  },
  {
   "metadata": {
    "ExecuteTime": {
     "end_time": "2025-09-14T15:39:20.881319Z",
     "start_time": "2025-09-14T15:39:20.879393Z"
    }
   },
   "cell_type": "code",
   "source": [
    "import pandas as pd\n",
    "\n",
    "groups = pd.DataFrame(data).groupby(\"School_Grade\")"
   ],
   "id": "6196cbc34c2de98c",
   "outputs": [],
   "execution_count": 45
  },
  {
   "metadata": {
    "ExecuteTime": {
     "end_time": "2025-09-14T15:39:20.945304Z",
     "start_time": "2025-09-14T15:39:20.886601Z"
    }
   },
   "cell_type": "code",
   "source": [
    "plt.figure(figsize=(10, 6))\n",
    "for grade, subset in groups:\n",
    "    k = 1 + int(np.log2(len(subset)))\n",
    "    plt.hist(subset[col], bins=k, alpha=0.05, label=f\"Grade {grade}\")\n",
    "\n",
    "plt.xlabel(col)\n",
    "plt.ylabel(\"\")\n",
    "plt.title(\"Гистограммы по группам\")\n",
    "plt.legend()\n",
    "plt.show()"
   ],
   "id": "3d99a4d5d5faf01",
   "outputs": [
    {
     "data": {
      "text/plain": [
       "<Figure size 1000x600 with 1 Axes>"
      ],
      "image/png": "[encoded data removed]"
     },
     "metadata": {},
     "output_type": "display_data"
    }
   ],
   "execution_count": 46
  },
  {
   "metadata": {
    "ExecuteTime": {
     "end_time": "2025-09-14T15:39:20.959674Z",
     "start_time": "2025-09-14T15:39:20.952900Z"
    }
   },
   "cell_type": "code",
   "source": "groups[col].agg([\"mean\", \"var\"])",
   "id": "5b133653b46f9a93",
   "outputs": [
    {
     "data": {
      "text/plain": [
       "                  mean       var\n",
       "School_Grade                    \n",
       "10th          6.488296  2.102064\n",
       "11th          6.367432  2.113079\n",
       "12th          6.459735  2.201804\n",
       "7th           6.483702  2.287617\n",
       "8th           6.675311  2.406853\n",
       "9th           6.468441  2.196945"
      ],
      "text/html": [
       "<div>\n",
       "<style scoped>\n",
       "    .dataframe tbody tr th:only-of-type {\n",
       "        vertical-align: middle;\n",
       "    }\n",
       "\n",
       "    .dataframe tbody tr th {\n",
       "        vertical-align: top;\n",
       "    }\n",
       "\n",
       "    .dataframe thead th {\n",
       "        text-align: right;\n",
       "    }\n",
       "</style>\n",
       "<table border=\"1\" class=\"dataframe\">\n",
       "  <thead>\n",
       "    <tr style=\"text-align: right;\">\n",
       "      <th></th>\n",
       "      <th>mean</th>\n",
       "      <th>var</th>\n",
       "    </tr>\n",
       "    <tr>\n",
       "      <th>School_Grade</th>\n",
       "      <th></th>\n",
       "      <th></th>\n",
       "    </tr>\n",
       "  </thead>\n",
       "  <tbody>\n",
       "    <tr>\n",
       "      <th>10th</th>\n",
       "      <td>6.488296</td>\n",
       "      <td>2.102064</td>\n",
       "    </tr>\n",
       "    <tr>\n",
       "      <th>11th</th>\n",
       "      <td>6.367432</td>\n",
       "      <td>2.113079</td>\n",
       "    </tr>\n",
       "    <tr>\n",
       "      <th>12th</th>\n",
       "      <td>6.459735</td>\n",
       "      <td>2.201804</td>\n",
       "    </tr>\n",
       "    <tr>\n",
       "      <th>7th</th>\n",
       "      <td>6.483702</td>\n",
       "      <td>2.287617</td>\n",
       "    </tr>\n",
       "    <tr>\n",
       "      <th>8th</th>\n",
       "      <td>6.675311</td>\n",
       "      <td>2.406853</td>\n",
       "    </tr>\n",
       "    <tr>\n",
       "      <th>9th</th>\n",
       "      <td>6.468441</td>\n",
       "      <td>2.196945</td>\n",
       "    </tr>\n",
       "  </tbody>\n",
       "</table>\n",
       "</div>"
      ]
     },
     "execution_count": 47,
     "metadata": {},
     "output_type": "execute_result"
    }
   ],
   "execution_count": 47
  },
  {
   "metadata": {},
   "cell_type": "markdown",
   "source": "Нетрудно заметить, что у нас как минимум 4 разные моды у полученных уномодальных распределений. Также дисперсия и среднее зависят от номера класса (только 9 и 12 класс распределены почти с одинаковыми параметрами). То есть возможно, что данные пришли из разных распределений (хотя код ниже говорит, что мы не можем отвергнуть гипотезу, что средние и медианы в группах имеют равные значение)",
   "id": "6680f8b67e8e7cdc"
  },
  {
   "metadata": {
    "ExecuteTime": {
     "end_time": "2025-09-14T15:57:59.729839Z",
     "start_time": "2025-09-14T15:57:59.724139Z"
    }
   },
   "cell_type": "code",
   "source": [
    "groups = [data.loc[data[\"School_Grade\"] == g, col] for g in data[\"School_Grade\"].unique()]\n",
    "\n",
    "f_stat, p_val = scipy.stats.f_oneway(*groups)"
   ],
   "id": "caf5a2dc67057c50",
   "outputs": [],
   "execution_count": 62
  },
  {
   "metadata": {
    "ExecuteTime": {
     "end_time": "2025-09-14T15:58:03.675830Z",
     "start_time": "2025-09-14T15:58:03.673760Z"
    }
   },
   "cell_type": "code",
   "source": [
    "p_val < alpha\n",
    "p_val"
   ],
   "id": "3e26b1dfb78b1d16",
   "outputs": [
    {
     "data": {
      "text/plain": [
       "np.float64(0.05075956986828881)"
      ]
     },
     "execution_count": 63,
     "metadata": {},
     "output_type": "execute_result"
    }
   ],
   "execution_count": 63
  },
  {
   "metadata": {
    "ExecuteTime": {
     "end_time": "2025-09-14T16:01:10.565566Z",
     "start_time": "2025-09-14T16:01:10.560143Z"
    }
   },
   "cell_type": "code",
   "source": "f_stat, p_val = scipy.stats.kruskal(*groups)",
   "id": "9a134486bdf60712",
   "outputs": [],
   "execution_count": 64
  },
  {
   "metadata": {
    "ExecuteTime": {
     "end_time": "2025-09-14T16:01:12.533157Z",
     "start_time": "2025-09-14T16:01:12.530785Z"
    }
   },
   "cell_type": "code",
   "source": [
    "p_val < alpha\n",
    "p_val"
   ],
   "id": "646c343d7fe9bb3f",
   "outputs": [
    {
     "data": {
      "text/plain": [
       "np.float64(0.09285861082515591)"
      ]
     },
     "execution_count": 65,
     "metadata": {},
     "output_type": "execute_result"
    }
   ],
   "execution_count": 65
  },
  {
   "metadata": {},
   "cell_type": "code",
   "outputs": [],
   "execution_count": null,
   "source": "",
   "id": "9de02f2c6ae0bae8"
  }
 ],
 "metadata": {
  "kernelspec": {
   "display_name": "oiad",
   "language": "python",
   "name": "python3"
  },
  "language_info": {
   "codemirror_mode": {
    "name": "ipython",
    "version": 3
   },
   "file_extension": ".py",
   "mimetype": "text/x-python",
   "name": "python",
   "nbconvert_exporter": "python",
   "pygments_lexer": "ipython3",
   "version": "3.13.5"
  }
 },
 "nbformat": 4,
 "nbformat_minor": 5
}
